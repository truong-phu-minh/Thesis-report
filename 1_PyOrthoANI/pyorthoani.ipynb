{
 "cells": [
  {
   "cell_type": "code",
   "execution_count": 1,
   "metadata": {},
   "outputs": [],
   "source": [
    "import pyorthoani\n",
    "from Bio import SeqIO\n",
    "from Bio.Seq import Seq\n",
    "from Bio.SeqRecord import SeqRecord\n",
    "import os"
   ]
  },
  {
   "cell_type": "code",
   "execution_count": 2,
   "metadata": {},
   "outputs": [],
   "source": [
    "#Parsing Fasta file and return sequence records\n",
    "def individual_sequences(path):\n",
    "    return [record for record in SeqIO.parse(path, \"fasta\")]"
   ]
  },
  {
   "cell_type": "code",
   "execution_count": 3,
   "metadata": {},
   "outputs": [
    {
     "data": {
      "text/plain": [
       "['Vibrio-campbellii_BoB-53',\n",
       " 'Vibrio-cholerae_RFB16',\n",
       " 'Vibrio-parahaemolyticus_M0904',\n",
       " 'Vibrio-parahaemolyticus_RIMD_2210633']"
      ]
     },
     "execution_count": 3,
     "metadata": {},
     "output_type": "execute_result"
    }
   ],
   "source": [
    "#Returning the file name of 4 reference strains\n",
    "strains = [file.split(\".fasta\")[0] for file in os.listdir() if 'Vibrio' in file]\n",
    "strains = sorted(list(set(strains))) \n",
    "strains"
   ]
  },
  {
   "cell_type": "code",
   "execution_count": 4,
   "metadata": {},
   "outputs": [
    {
     "data": {
      "text/plain": [
       "{'Vibrio-campbellii_BoB-53': 0.80896807219032,\n",
       " 'Vibrio-cholerae_RFB16': 0.7312647485331099,\n",
       " 'Vibrio-parahaemolyticus_M0904': 0.9825226449033977,\n",
       " 'Vibrio-parahaemolyticus_RIMD_2210633': 0.983212998667259}"
      ]
     },
     "execution_count": 4,
     "metadata": {},
     "output_type": "execute_result"
    }
   ],
   "source": [
    "#Executing pyorthoani and storing the ANI value in dictionary\n",
    "ani_value = {}\n",
    "for file in strains:\n",
    "    query_strain = individual_sequences(\"./BT85-28.fasta\")\n",
    "    ref_strain = individual_sequences(f\"./{file}.fasta\")\n",
    "    ani = pyorthoani.orthoani(query_strain, ref_strain)\n",
    "    ani_value[file] = ani\n",
    "ani_value"
   ]
  }
 ],
 "metadata": {
  "kernelspec": {
   "display_name": "Python 3",
   "language": "python",
   "name": "python3"
  },
  "language_info": {
   "codemirror_mode": {
    "name": "ipython",
    "version": 3
   },
   "file_extension": ".py",
   "mimetype": "text/x-python",
   "name": "python",
   "nbconvert_exporter": "python",
   "pygments_lexer": "ipython3",
   "version": "3.9.20"
  },
  "orig_nbformat": 4
 },
 "nbformat": 4,
 "nbformat_minor": 2
}
