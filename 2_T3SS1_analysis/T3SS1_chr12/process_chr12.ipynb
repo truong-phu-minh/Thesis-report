{
 "cells": [
  {
   "cell_type": "code",
   "execution_count": 11,
   "metadata": {},
   "outputs": [],
   "source": [
    "import pandas as pd\n",
    "import numpy as np\n",
    "from Bio import SeqIO\n",
    "from collections import defaultdict"
   ]
  },
  {
   "cell_type": "code",
   "execution_count": 2,
   "metadata": {},
   "outputs": [],
   "source": [
    "df1 = pd.read_csv(\"./chr1.csv\", index_col=\"strain\")\n",
    "df2 = pd.read_csv(\"./chr2.csv\", index_col=\"strain\")\n",
    "df1 = df1.join(df2, how=\"left\")"
   ]
  },
  {
   "cell_type": "code",
   "execution_count": 16,
   "metadata": {},
   "outputs": [
    {
     "data": {
      "text/html": [
       "<div>\n",
       "<style scoped>\n",
       "    .dataframe tbody tr th:only-of-type {\n",
       "        vertical-align: middle;\n",
       "    }\n",
       "\n",
       "    .dataframe tbody tr th {\n",
       "        vertical-align: top;\n",
       "    }\n",
       "\n",
       "    .dataframe thead th {\n",
       "        text-align: right;\n",
       "    }\n",
       "</style>\n",
       "<table border=\"1\" class=\"dataframe\">\n",
       "  <thead>\n",
       "    <tr style=\"text-align: right;\">\n",
       "      <th></th>\n",
       "      <th>accession1</th>\n",
       "      <th>accession2</th>\n",
       "    </tr>\n",
       "    <tr>\n",
       "      <th>strain</th>\n",
       "      <th></th>\n",
       "      <th></th>\n",
       "    </tr>\n",
       "  </thead>\n",
       "  <tbody>\n",
       "    <tr>\n",
       "      <th>10329_clinical</th>\n",
       "      <td>CP045794.1</td>\n",
       "      <td>CP045795.1</td>\n",
       "    </tr>\n",
       "    <tr>\n",
       "      <th>16-VB00198</th>\n",
       "      <td>CP097355.1</td>\n",
       "      <td>CP097356.1</td>\n",
       "    </tr>\n",
       "    <tr>\n",
       "      <th>160807</th>\n",
       "      <td>CP033141.1</td>\n",
       "      <td>CP033142.1</td>\n",
       "    </tr>\n",
       "    <tr>\n",
       "      <th>17-VB00214</th>\n",
       "      <td>CP062153.1</td>\n",
       "      <td>CP062154.1</td>\n",
       "    </tr>\n",
       "    <tr>\n",
       "      <th>19-021-D1_ahpnd</th>\n",
       "      <td>CP046411.1</td>\n",
       "      <td>CP046412.1</td>\n",
       "    </tr>\n",
       "    <tr>\n",
       "      <th>...</th>\n",
       "      <td>...</td>\n",
       "      <td>...</td>\n",
       "    </tr>\n",
       "    <tr>\n",
       "      <th>vp-HL-202005</th>\n",
       "      <td>CP114194.1</td>\n",
       "      <td>CP114195.1</td>\n",
       "    </tr>\n",
       "    <tr>\n",
       "      <th>vp-HL-202006</th>\n",
       "      <td>CP150902.1</td>\n",
       "      <td>CP150903.1</td>\n",
       "    </tr>\n",
       "    <tr>\n",
       "      <th>vp-HL-202008</th>\n",
       "      <td>CP150909.1</td>\n",
       "      <td>CP150910.1</td>\n",
       "    </tr>\n",
       "    <tr>\n",
       "      <th>vp-HL-202012</th>\n",
       "      <td>CP150947.1</td>\n",
       "      <td>CP150948.1</td>\n",
       "    </tr>\n",
       "    <tr>\n",
       "      <th>vp-pir-201806_ahpnd</th>\n",
       "      <td>CP151155.1</td>\n",
       "      <td>CP151156.1</td>\n",
       "    </tr>\n",
       "  </tbody>\n",
       "</table>\n",
       "<p>128 rows × 2 columns</p>\n",
       "</div>"
      ],
      "text/plain": [
       "                     accession1  accession2\n",
       "strain                                     \n",
       "10329_clinical       CP045794.1  CP045795.1\n",
       "16-VB00198           CP097355.1  CP097356.1\n",
       "160807               CP033141.1  CP033142.1\n",
       "17-VB00214           CP062153.1  CP062154.1\n",
       "19-021-D1_ahpnd      CP046411.1  CP046412.1\n",
       "...                         ...         ...\n",
       "vp-HL-202005         CP114194.1  CP114195.1\n",
       "vp-HL-202006         CP150902.1  CP150903.1\n",
       "vp-HL-202008         CP150909.1  CP150910.1\n",
       "vp-HL-202012         CP150947.1  CP150948.1\n",
       "vp-pir-201806_ahpnd  CP151155.1  CP151156.1\n",
       "\n",
       "[128 rows x 2 columns]"
      ]
     },
     "execution_count": 16,
     "metadata": {},
     "output_type": "execute_result"
    }
   ],
   "source": [
    "df1"
   ]
  },
  {
   "cell_type": "code",
   "execution_count": 3,
   "metadata": {},
   "outputs": [],
   "source": [
    "accession_to_strain = dict(zip(df1['accession1'], df1.index))\n",
    "accession_to_strain"
   ]
  },
  {
   "cell_type": "code",
   "execution_count": 49,
   "metadata": {},
   "outputs": [],
   "source": [
    "delta_1 = []\n",
    "accession_to_strain = dict(zip(df1['accession1'], df1.index)) \n",
    "\n",
    "# First pass: calculate delta_1\n",
    "with open(\"./MAFFT_chr1.fasta\", \"r\") as infile:\n",
    "    for line in infile:\n",
    "        if line.startswith('>'):\n",
    "            coordinate_chr1 = line[1:].split(\":\")[1]\n",
    "            start = coordinate_chr1.split(\"-\")[0]\n",
    "            end = coordinate_chr1.split(\"-\")[1]\n",
    "            delta_1.append(int(end) - int(start))\n",
    "\n",
    "# Define expected coordinate based on median delta\n",
    "expected_coordinate = [500, 500 + int(max(delta_1))]\n",
    "\n",
    "# # Second pass: extract sequence within expected_coordinate\n",
    "with open(\"./MAFFT_chr1.fasta\", \"r\") as infile, open(\"./MAFFT_chr1_renamed.fasta\", \"w\") as outfile:\n",
    "    sequence = \"\"\n",
    "    header = \"\"\n",
    "    for line in infile:\n",
    "        line = line.strip()\n",
    "        if line.startswith('>'):\n",
    "            # Process previous record if it exists\n",
    "            if header and sequence:\n",
    "                subseq = sequence[expected_coordinate[0]:expected_coordinate[1]]\n",
    "                outfile.write(f\"{header}\\n\")\n",
    "                for i in range(0, len(subseq), 60):\n",
    "                    outfile.write(subseq[i:i+60] + \"\\n\")\n",
    "            # Process new header\n",
    "            accession = line[1:].split(':')[0]\n",
    "            strain_name = accession_to_strain.get(accession, accession)\n",
    "            strain_clean = strain_name\n",
    "            header = f\">{strain_clean}\"\n",
    "            sequence = \"\"  # Reset sequence\n",
    "\n",
    "        else:\n",
    "            sequence += line\n",
    "\n",
    "    # Process the last record\n",
    "    if header and sequence:\n",
    "        subseq = sequence[expected_coordinate[0]:expected_coordinate[1]]\n",
    "        outfile.write(f\"{header}\\n\")\n",
    "        for i in range(0, len(subseq), 60):\n",
    "            outfile.write(subseq[i:i+60] + \"\\n\")"
   ]
  },
  {
   "cell_type": "code",
   "execution_count": 39,
   "metadata": {},
   "outputs": [
    {
     "data": {
      "text/plain": [
       "37816.984375"
      ]
     },
     "execution_count": 39,
     "metadata": {},
     "output_type": "execute_result"
    }
   ],
   "source": [
    "np.average(delta_1)"
   ]
  },
  {
   "cell_type": "code",
   "execution_count": 75,
   "metadata": {},
   "outputs": [
    {
     "data": {
      "text/plain": [
       "[500, 37836]"
      ]
     },
     "execution_count": 75,
     "metadata": {},
     "output_type": "execute_result"
    }
   ],
   "source": [
    "expected_coordinate"
   ]
  },
  {
   "cell_type": "code",
   "execution_count": 53,
   "metadata": {},
   "outputs": [],
   "source": [
    "delta_2 = []\n",
    "accession_to_strain = dict(zip(df1['accession2'], df1.index))  # Ensure this is defined\n",
    "\n",
    "# First pass: calculate delta_1\n",
    "with open(\"./MAFFT_chr2.fasta\", \"r\") as infile:\n",
    "    for line in infile:\n",
    "        if line.startswith('>'):\n",
    "            coordinate_chr1 = line[1:].split(\":\")[1]\n",
    "            start = coordinate_chr1.split(\"-\")[0]\n",
    "            end = coordinate_chr1.split(\"-\")[1]\n",
    "            delta_2.append(int(end) - int(start))\n",
    "\n",
    "# Define expected coordinate based on median delta\n",
    "expected_coordinate = [1, 1 + int(max(delta_2))]\n",
    "\n",
    "# Second pass: extract sequence within expected_coordinate\n",
    "with open(\"./MAFFT_chr2.fasta\", \"r\") as infile, open(\"./MAFFT_chr2_renamed.fasta\", \"w\") as outfile:\n",
    "    sequence = \"\"\n",
    "    header = \"\"\n",
    "    for line in infile:\n",
    "        line = line.strip()\n",
    "        if line.startswith('>'):\n",
    "            # Process previous record if it exists\n",
    "            if header and sequence:\n",
    "                subseq = sequence[expected_coordinate[0]:expected_coordinate[1]]\n",
    "                outfile.write(f\"{header}\\n\")\n",
    "                for i in range(0, len(subseq), 60):\n",
    "                    outfile.write(subseq[i:i+60] + \"\\n\")\n",
    "\n",
    "            # Process new header\n",
    "            accession = line[1:].split(':')[0]\n",
    "            strain_name = accession_to_strain.get(accession, accession)\n",
    "            strain_clean = strain_name\n",
    "            header = f\">{strain_clean}\"\n",
    "\n",
    "            sequence = \"\"  # Reset sequence\n",
    "\n",
    "        else:\n",
    "            sequence += line\n",
    "\n",
    "    # Process the last record\n",
    "    if header and sequence:\n",
    "        subseq = sequence[expected_coordinate[0]:expected_coordinate[1]]\n",
    "        outfile.write(f\"{header}\\n\")\n",
    "        for i in range(0, len(subseq), 60):\n",
    "            outfile.write(subseq[i:i+60] + \"\\n\")"
   ]
  },
  {
   "cell_type": "code",
   "execution_count": 56,
   "metadata": {},
   "outputs": [
    {
     "data": {
      "text/plain": [
       "1984"
      ]
     },
     "execution_count": 56,
     "metadata": {},
     "output_type": "execute_result"
    }
   ],
   "source": [
    "max(delta_2)"
   ]
  },
  {
   "cell_type": "code",
   "execution_count": 7,
   "metadata": {},
   "outputs": [
    {
     "data": {
      "text/plain": [
       "[1, 1984]"
      ]
     },
     "execution_count": 7,
     "metadata": {},
     "output_type": "execute_result"
    }
   ],
   "source": [
    "expected_coordinate"
   ]
  },
  {
   "cell_type": "code",
   "execution_count": 54,
   "metadata": {},
   "outputs": [],
   "source": [
    "def read_fasta(filename):\n",
    "    seq_dict = {}\n",
    "    with open(filename, 'r') as f:\n",
    "        current_label = None\n",
    "        seq_list = []\n",
    "        for line in f:\n",
    "            line = line.strip()\n",
    "            if line.startswith('>'):\n",
    "                if current_label:\n",
    "                    seq_dict[current_label] = ''.join(seq_list)\n",
    "                current_label = line[1:]  # remove '>'\n",
    "                seq_list = []\n",
    "            else:\n",
    "                seq_list.append(line)\n",
    "        if current_label:\n",
    "            seq_dict[current_label] = ''.join(seq_list)\n",
    "    return seq_dict"
   ]
  },
  {
   "cell_type": "code",
   "execution_count": 55,
   "metadata": {},
   "outputs": [],
   "source": [
    "seq1 = read_fasta(\"./MAFFT_chr1_renamed.fasta\")\n",
    "seq2 = read_fasta(\"./MAFFT_chr2_renamed.fasta\")\n",
    "output = \"combined_chr12.fasta\"\n",
    "\n",
    "# Combine sequences by strain name\n",
    "combined = defaultdict(str)\n",
    "\n",
    "for strain in seq1:\n",
    "    combined[strain] += seq1.get(strain, \"\")\n",
    "\n",
    "for strain in seq2:\n",
    "    combined[strain] += seq2.get(strain, \"\")\n",
    "\n",
    "# Write combined sequences to output FASTA\n",
    "with open(output, 'w') as f:\n",
    "    for strain, sequence in combined.items():\n",
    "        f.write(f\">{strain}\\n\")\n",
    "        # Write sequence with line length 60 (optional for readability)\n",
    "        for i in range(0, len(sequence), 60):\n",
    "            f.write(sequence[i:i+60] + \"\\n\")"
   ]
  },
  {
   "cell_type": "markdown",
   "metadata": {},
   "source": [
    "### Rename formatted from treelife file"
   ]
  },
  {
   "cell_type": "code",
   "execution_count": null,
   "metadata": {},
   "outputs": [],
   "source": [
    "newer = {}\n",
    "for strain, plasmid in strain_name.items():\n",
    "    strain = strain.split(\"_ahpnd\")[0]\n",
    "    newer[strain] = plasmid\n",
    "new = {}\n",
    "for strain, plasmid in newer.items():\n",
    "    strain = strain.split(\"_clinical\")[0]\n",
    "    new[strain] = plasmid"
   ]
  },
  {
   "cell_type": "code",
   "execution_count": null,
   "metadata": {},
   "outputs": [],
   "source": [
    "import re\n",
    "with open(\"./concat_ready.nex.treefile\", \"r\") as f:\n",
    "    tree_string = f.read()\n",
    "def replace_label(match):\n",
    "    label = match.group(0)\n",
    "    prefix = label.split(\"_\")[0]\n",
    "    return plasmid_to_strain.get(prefix, label)\n",
    "new_tree = re.sub(r'([A-Z]{2}\\d+\\.\\d+_\\d+-\\d+)', replace_label, tree_string)\n",
    "with open(\"./T6SS2_auto_hi.nhx\", \"w\") as f:\n",
    "    f.write(new_tree)"
   ]
  }
 ],
 "metadata": {
  "kernelspec": {
   "display_name": "Python 3",
   "language": "python",
   "name": "python3"
  },
  "language_info": {
   "codemirror_mode": {
    "name": "ipython",
    "version": 3
   },
   "file_extension": ".py",
   "mimetype": "text/x-python",
   "name": "python",
   "nbconvert_exporter": "python",
   "pygments_lexer": "ipython3",
   "version": "3.9.20"
  },
  "orig_nbformat": 4
 },
 "nbformat": 4,
 "nbformat_minor": 2
}
