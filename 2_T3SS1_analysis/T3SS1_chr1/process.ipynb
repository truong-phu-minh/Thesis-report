{
 "cells": [
  {
   "cell_type": "code",
   "execution_count": 1,
   "metadata": {},
   "outputs": [],
   "source": [
    "import os \n",
    "import pandas as pd\n",
    "from Bio import SeqIO"
   ]
  },
  {
   "cell_type": "markdown",
   "metadata": {},
   "source": [
    "### Extract coordinate of start and end regions of T3SS1 on chromosome 1 from 128 strains"
   ]
  },
  {
   "cell_type": "code",
   "execution_count": 11,
   "metadata": {},
   "outputs": [],
   "source": [
    "vp1656 = [file.split(\".fasta.tabular\")[0] for file in os.listdir(\"./NCBI BLAST_vp1656_300/\")]\n",
    "vp1656 = sorted(set(vp1656))\n",
    "start_list = {}\n",
    "strain_name = {}\n",
    "for start_coor in vp1656:\n",
    "    df = pd.read_csv(f\"./NCBI BLAST_vp1656_300/{start_coor}.fasta.tabular\", delimiter = \"\\t\", header = None)\n",
    "    df.columns = [\"qaccver\",\"saccver\",\"pident\",\"alignment length\",\"mismatch number\",\"gapopen\",\"qstart\",\"qend\",\"sstart\",\"send\",\"evalue\",\"alignment score\", \"bit score\"]\n",
    "    start_list[max(df[\"qaccver\"])] = max(df[\"qstart\"])\n",
    "    strain_name[start_coor] = max(df[\"qaccver\"])"
   ]
  },
  {
   "cell_type": "code",
   "execution_count": 3,
   "metadata": {},
   "outputs": [],
   "source": [
    "vp1702 = [file.split(\".fasta.tabular\")[0] for file in os.listdir(\"./NCBI BLAST_300_vp1702/\")]\n",
    "vp1702 = sorted(set(vp1702))\n",
    "end_list = {}\n",
    "for start_coor in vp1702:\n",
    "    df = pd.read_csv(f\"./NCBI BLAST_300_vp1702/{start_coor}.fasta.tabular\", delimiter = \"\\t\", header = None)\n",
    "    df.columns = [\"qaccver\",\"saccver\",\"pident\",\"alignment length\",\"mismatch number\",\"gapopen\",\"qstart\",\"qend\",\"sstart\",\"send\",\"evalue\",\"alignment score\", \"bit score\"]\n",
    "    end_list[max(df[\"qaccver\"])] = max(df[\"qend\"])"
   ]
  },
  {
   "cell_type": "code",
   "execution_count": 4,
   "metadata": {},
   "outputs": [],
   "source": [
    "coordinate = {}\n",
    "for strain in start_list:\n",
    "    if strain in end_list:\n",
    "        coordinate[strain] = [start_list[strain], end_list[strain]]"
   ]
  },
  {
   "cell_type": "markdown",
   "metadata": {},
   "source": [
    "### Create bed file"
   ]
  },
  {
   "cell_type": "code",
   "execution_count": 5,
   "metadata": {},
   "outputs": [],
   "source": [
    "new_coordinate = {k: v[1] - v[0] for k, v in coordinate.items()}"
   ]
  },
  {
   "cell_type": "code",
   "execution_count": 7,
   "metadata": {},
   "outputs": [],
   "source": [
    "bed_file = 'regions.bed'\n",
    "strain_names_in_bed = set()\n",
    "\n",
    "with open(bed_file, 'r') as infile:\n",
    "    for line in infile:\n",
    "        strain_name = line.strip().split()[0]  # The first column is the strain name\n",
    "        strain_names_in_bed.add(strain_name)\n",
    "\n",
    "# Save the strain names to a file for later use\n",
    "with open('strain_names_in_bed.txt', 'w') as outfile:\n",
    "    for strain in strain_names_in_bed:\n",
    "        outfile.write(strain + \"\\n\")\n"
   ]
  },
  {
   "cell_type": "code",
   "execution_count": 8,
   "metadata": {},
   "outputs": [
    {
     "name": "stdout",
     "output_type": "stream",
     "text": [
      "Filtered FASTA file saved as filtered_128_strains.fasta\n"
     ]
    }
   ],
   "source": [
    "with open('strain_names_in_bed.txt', 'r') as infile:\n",
    "    valid_strains = set(line.strip() for line in infile)\n",
    "\n",
    "# Filter sequences in the 128_strains.fasta file\n",
    "fasta_file = '128_strains.fasta'\n",
    "output_file = 'filtered_128_strains.fasta'\n",
    "\n",
    "with open(fasta_file, 'r') as infile, open(output_file, 'w') as outfile:\n",
    "    write_sequence = False\n",
    "    for line in infile:\n",
    "        if line.startswith(\">\"):  # Header line\n",
    "            strain_name = line.strip().split()[0][1:]  # Remove '>' and get strain name\n",
    "            write_sequence = strain_name in valid_strains  # Check if strain name is valid\n",
    "        if write_sequence:  # Only write sequence if the strain name matches\n",
    "            outfile.write(line)\n",
    "\n",
    "print(f\"Filtered FASTA file saved as {output_file}\")"
   ]
  },
  {
   "cell_type": "markdown",
   "metadata": {},
   "source": [
    "### Find strain that has reversed T3SS1 regions, and store in reversed_strain"
   ]
  },
  {
   "cell_type": "code",
   "execution_count": 9,
   "metadata": {},
   "outputs": [],
   "source": [
    "reversed_strain = {}\n",
    "with open('coordinate.bed', 'w') as bedfile:\n",
    "    for strain, coords in coordinate.items():\n",
    "        start, end = coords\n",
    "        # BED format requires start < end, so swap if needed\n",
    "        if start > end:\n",
    "            bedfile.write(f\"{strain}\\t{end}\\t{start}\\n\")\n",
    "            reversed_strain[strain] = [start, end]\n",
    "        if start < end:\n",
    "            bedfile.write(f\"{strain}\\t{start}\\t{end}\\n\")"
   ]
  },
  {
   "cell_type": "code",
   "execution_count": 12,
   "metadata": {},
   "outputs": [],
   "source": [
    "newer = {}\n",
    "for strain, plasmid in strain_name.items():\n",
    "    strain = strain.split(\"_ahpnd\")[0]\n",
    "    newer[strain] = plasmid\n",
    "new = {}\n",
    "for strain, plasmid in newer.items():\n",
    "    strain = strain.split(\"_clinical\")[0]\n",
    "    new[strain] = plasmid"
   ]
  },
  {
   "cell_type": "code",
   "execution_count": 31,
   "metadata": {},
   "outputs": [
    {
     "data": {
      "text/plain": [
       "{'CP045794.1': '10329',\n",
       " 'CP097355.1': '16-VB00198',\n",
       " 'CP033141.1': '160807',\n",
       " 'CP062153.1': '17-VB00214',\n",
       " 'CP046411.1': '19-021-D1',\n",
       " 'CP062150.1': '19-VB00998',\n",
       " 'CP065369.1': '20-082A3',\n",
       " 'CP083361.1': '20-082E4',\n",
       " 'CP046828.1': '2010V-1106',\n",
       " 'CP020034.1': '20130629002S01',\n",
       " 'CP046808.1': '2013V-1146',\n",
       " 'CP046787.1': '2013V-1174',\n",
       " 'CP046783.1': '2013V-1181',\n",
       " 'CP046782.1': '2013V-1244',\n",
       " 'CP034285.1': '20140624012-1',\n",
       " 'CP034289.1': '20140722001-1',\n",
       " 'CP047990.1': '20140723005',\n",
       " 'CP034294.1': '20140829008-1',\n",
       " 'CP046779.1': '2014V-1066',\n",
       " 'CP046778.1': '2014V-1125',\n",
       " 'CP047995.1': '20150710009',\n",
       " 'CP034305.1': '20151116002-3',\n",
       " 'CP046754.1': '2015AW-0174',\n",
       " 'CP034298.1': '20160303005-1',\n",
       " 'CP128370.1': '23EBVib0155',\n",
       " 'CP074415.1': '64',\n",
       " 'CP176357.1': 'AG1',\n",
       " 'CP046761.1': 'AM46865',\n",
       " 'CP192147.1': 'ANHC.C2L',\n",
       " 'CP014046.2': 'ATCC17802',\n",
       " 'CP003972.1': 'BB220P',\n",
       " 'CP099939.1': 'BM17A_1',\n",
       " 'CP129924.1': 'BM17A_2',\n",
       " 'CP129932.1': 'BM18B',\n",
       " 'CP099937.1': 'BM19BA_1',\n",
       " 'CP129938.1': 'BM21A_2',\n",
       " 'CP099941.1': 'BM23A_1',\n",
       " 'CP129930.1': 'BM24A',\n",
       " 'CP099928.1': 'BM24B',\n",
       " 'CP099921.1': 'BM25',\n",
       " 'CP099934.1': 'BM26A_1',\n",
       " 'CP141290.1': 'BM26A_2',\n",
       " 'cluster_001_consensus': 'BT85-28',\n",
       " 'CP063525.1': 'BTXS2',\n",
       " 'CP006008.1': 'CDC_K4557',\n",
       " 'CP010883.1': 'CHN25',\n",
       " 'CP034565.1': 'D3112',\n",
       " 'CP066246.1': 'DHO76',\n",
       " 'CP064035.1': 'DLM1799',\n",
       " 'CP064033.1': 'DLM1805',\n",
       " 'CP187480.1': 'DX190406',\n",
       " 'CP187429.1': 'DX210401',\n",
       " 'CP187437.1': 'DX230702',\n",
       " 'CP149505.1': 'EB101',\n",
       " 'CP073068.1': 'FB-11',\n",
       " 'CP020427.2': 'FDAARGOS_191',\n",
       " 'CP026041.1': 'FDAARGOS_51',\n",
       " 'CP044071.1': 'FDAARGOS_662',\n",
       " 'CP044062.1': 'FDAARGOS_667',\n",
       " 'CP006004.1': 'FDA_R31',\n",
       " 'CP009847.1': 'FORC_004',\n",
       " 'CP009765.1': 'FORC_006',\n",
       " 'CP009982.1': 'FORC_008',\n",
       " 'CP011406.1': 'FORC_014',\n",
       " 'CP013826.1': 'FORC_018',\n",
       " 'CP013248.1': 'FORC_022',\n",
       " 'CP012950.1': 'FORC_023',\n",
       " 'CP125856.1': 'G855',\n",
       " 'CP097873.1': 'GL-601',\n",
       " 'CP176646.1': 'GTVSS-031',\n",
       " 'CP176657.1': 'GTVSS-032',\n",
       " 'CP047985.1': 'HZ-52',\n",
       " 'CP130651.1': 'HZ',\n",
       " 'CP129936.1': 'I13A',\n",
       " 'CP141287.1': 'I14B',\n",
       " 'CP130856.1': 'I24A',\n",
       " 'CP099919.1': 'Isc14B',\n",
       " 'CP099946.1': 'Isc24A',\n",
       " 'CP176031.1': 'L2171',\n",
       " 'CP176035.1': 'L2181',\n",
       " 'CP119301.1': 'LC',\n",
       " 'CP085857.1': 'LH214',\n",
       " 'CP068622.1': 'LH24',\n",
       " 'CP068627.1': 'LH80',\n",
       " 'CP040100.1': 'LVP1',\n",
       " 'CP040101.1': 'LVP2',\n",
       " 'CP040103.1': 'LVP66',\n",
       " 'CP133891.1': 'M0904',\n",
       " 'CP023248.2': 'MAVP-26',\n",
       " 'CP011884.1': 'MAVP-Q1',\n",
       " 'CP022473.1': 'MAVP-Q2',\n",
       " 'CP022552.2': 'MAVP-R',\n",
       " 'CP043421.1': 'MVP1',\n",
       " 'CP128803.1': 'NJIFDCVp52',\n",
       " 'CP150864.1': 'NJIFDCVp7',\n",
       " 'CP114186.1': 'PH1273',\n",
       " 'CP114183.2': 'PH1339',\n",
       " 'CP028342.1': 'R13',\n",
       " 'CP028141.1': 'R14',\n",
       " 'BA000031.2': 'RIMD_2210633',\n",
       " 'CP102434.1': 'RMDVP1',\n",
       " 'CP131931.1': 'RP0132',\n",
       " 'CP160382.1': 'ST110-8',\n",
       " 'CP155084.1': 'TBV028',\n",
       " 'CP068647.1': 'TJ-187',\n",
       " 'CP068631.1': 'TJ-20',\n",
       " 'CP060088.1': 'TJA114',\n",
       " 'CP133900.1': 'TW01',\n",
       " 'CP007004.1': 'UCM-V493',\n",
       " 'CP068638.1': 'VP120',\n",
       " 'CP068641.1': 'VP157',\n",
       " 'CP127846.1': 'VP16',\n",
       " 'CP117039.1': 'VP220218',\n",
       " 'CP158305.1': 'VP93',\n",
       " 'CP041202.1': 'Vb0624',\n",
       " 'CP080478.1': 'Vp2015094',\n",
       " 'CP136903.1': 'X1',\n",
       " 'CP064041.1': 'XMO116',\n",
       " 'CP099955.1': 'lsc4A',\n",
       " 'CP099924.1': 'lsc7',\n",
       " 'CP150857.1': 'vp-201806',\n",
       " 'CP150862.1': 'vp-201911',\n",
       " 'CP152363.1': 'vp-HL-201910',\n",
       " 'CP114194.1': 'vp-HL-202005',\n",
       " 'CP150902.1': 'vp-HL-202006',\n",
       " 'CP150909.1': 'vp-HL-202008',\n",
       " 'CP150947.1': 'vp-HL-202012',\n",
       " 'CP151155.1': 'vp-pir-201806'}"
      ]
     },
     "execution_count": 31,
     "metadata": {},
     "output_type": "execute_result"
    }
   ],
   "source": [
    "plasmid_to_strain = {v: k for k, v in new.items()}\n",
    "plasmid_to_strain"
   ]
  },
  {
   "cell_type": "markdown",
   "metadata": {},
   "source": [
    "### Reverse T3SS1 with reversed strain"
   ]
  },
  {
   "cell_type": "code",
   "execution_count": 14,
   "metadata": {},
   "outputs": [
    {
     "name": "stdout",
     "output_type": "stream",
     "text": [
      "Warning: the index file is older than the FASTA file.\n"
     ]
    }
   ],
   "source": [
    "!bedtools getfasta -fi filtered_128_strains.fasta -fo output_directory/strain_name.fasta -bed coordinate.bed"
   ]
  },
  {
   "cell_type": "code",
   "execution_count": 15,
   "metadata": {},
   "outputs": [],
   "source": [
    "input_fasta = \"./output_directory/strain_name.fasta\"\n",
    "output_fasta = \"./output_directory/T3SS1_normalized.fasta\"\n",
    "with open(input_fasta, \"r\") as infile, open(output_fasta, \"w\") as outfile:\n",
    "    for record in SeqIO.parse(infile, \"fasta\"):\n",
    "        strain = record.id \n",
    "        if strain.split(\":\")[0] in reverse_strain:\n",
    "            start, end = reverse_strain[strain.split(\":\")[0]]\n",
    "            # Extract the relevant region and reverse if needed\n",
    "            record.seq = record.seq.reverse_complement()\n",
    "        # Write the modified record to the output file\n",
    "        SeqIO.write(record, outfile, \"fasta\")"
   ]
  },
  {
   "cell_type": "code",
   "execution_count": 16,
   "metadata": {},
   "outputs": [
    {
     "data": {
      "text/plain": [
       "67"
      ]
     },
     "execution_count": 16,
     "metadata": {},
     "output_type": "execute_result"
    }
   ],
   "source": [
    "len(reverse_strain)"
   ]
  },
  {
   "cell_type": "markdown",
   "metadata": {},
   "source": [
    "### Rename plasmid to strain name in iqtree file"
   ]
  },
  {
   "cell_type": "code",
   "execution_count": 18,
   "metadata": {},
   "outputs": [],
   "source": [
    "import re\n",
    "with open(\"./[PMinh]T3SS1.nhx\", \"r\") as f:\n",
    "    tree_string = f.read()\n",
    "def replace_label(match):\n",
    "    label = match.group(0)\n",
    "    prefix = label.split(\"_\")[0]\n",
    "    return plasmid_to_strain.get(prefix, label)\n",
    "new_tree = re.sub(r'([A-Z]{2}\\d+\\.\\d+_\\d+-\\d+)', replace_label, tree_string)\n",
    "with open(\"./MAFFT_T3SS1.fasta.treefile\", \"w\") as f:\n",
    "    f.write(new_tree)"
   ]
  },
  {
   "cell_type": "code",
   "execution_count": 29,
   "metadata": {},
   "outputs": [],
   "source": [
    "list_coord = {}\n",
    "for strain, coordinate in reverse_strain.items():\n",
    "    start, end = reverse_strain[strain]\n",
    "    delta = start-end\n",
    "    list_coord[strain] = delta"
   ]
  },
  {
   "cell_type": "code",
   "execution_count": 30,
   "metadata": {},
   "outputs": [
    {
     "data": {
      "text/plain": [
       "{'CP045794.1': 35862,\n",
       " 'CP097355.1': 32945,\n",
       " 'CP033141.1': 35964,\n",
       " 'CP062153.1': 38503,\n",
       " 'CP046411.1': 74230,\n",
       " 'CP062150.1': 38503,\n",
       " 'CP065369.1': 74230,\n",
       " 'CP046828.1': 35861,\n",
       " 'CP020034.1': 35965,\n",
       " 'CP046808.1': 35861,\n",
       " 'CP034285.1': 35964,\n",
       " 'CP034289.1': 35964,\n",
       " 'CP034294.1': 35964,\n",
       " 'CP046778.1': 35862,\n",
       " 'CP034305.1': 35963,\n",
       " 'CP046754.1': 35861,\n",
       " 'CP176357.1': 35965,\n",
       " 'CP046761.1': 35966,\n",
       " 'CP014046.2': 38490,\n",
       " 'CP099937.1': 35632,\n",
       " 'CP099941.1': 35822,\n",
       " 'CP099928.1': 35860,\n",
       " 'CP099921.1': 35860,\n",
       " 'CP099934.1': 35949,\n",
       " 'CP063525.1': 35976,\n",
       " 'CP006008.1': 35962,\n",
       " 'CP034565.1': 38327,\n",
       " 'CP064035.1': 35831,\n",
       " 'CP064033.1': 35960,\n",
       " 'CP187429.1': 35964,\n",
       " 'CP073068.1': 35976,\n",
       " 'CP020427.2': 35959,\n",
       " 'CP026041.1': 35862,\n",
       " 'CP044071.1': 35861,\n",
       " 'CP006004.1': 32574,\n",
       " 'CP009765.1': 36338,\n",
       " 'CP009982.1': 35965,\n",
       " 'CP013826.1': 35965,\n",
       " 'CP012950.1': 35962,\n",
       " 'CP125856.1': 35964,\n",
       " 'CP097873.1': 35963,\n",
       " 'CP099919.1': 35799,\n",
       " 'CP068627.1': 35959,\n",
       " 'CP040100.1': 36328,\n",
       " 'CP040101.1': 35966,\n",
       " 'CP133891.1': 35810,\n",
       " 'CP023248.2': 35861,\n",
       " 'CP011884.1': 35964,\n",
       " 'CP022473.1': 35964,\n",
       " 'CP043421.1': 35967,\n",
       " 'CP128803.1': 35879,\n",
       " 'CP114183.2': 37028,\n",
       " 'CP028342.1': 35806,\n",
       " 'CP028141.1': 35806,\n",
       " 'CP102434.1': 35959,\n",
       " 'CP131931.1': 35982,\n",
       " 'CP127846.1': 35963,\n",
       " 'CP117039.1': 35965,\n",
       " 'CP080478.1': 35947,\n",
       " 'CP136903.1': 35957,\n",
       " 'CP099924.1': 35800,\n",
       " 'CP150857.1': 35965,\n",
       " 'CP150862.1': 35825,\n",
       " 'CP150902.1': 35965,\n",
       " 'CP150909.1': 35965,\n",
       " 'CP150947.1': 35964,\n",
       " 'CP151155.1': 35965}"
      ]
     },
     "execution_count": 30,
     "metadata": {},
     "output_type": "execute_result"
    }
   ],
   "source": [
    "list_coord"
   ]
  }
 ],
 "metadata": {
  "kernelspec": {
   "display_name": "Python 3",
   "language": "python",
   "name": "python3"
  },
  "language_info": {
   "codemirror_mode": {
    "name": "ipython",
    "version": 3
   },
   "file_extension": ".py",
   "mimetype": "text/x-python",
   "name": "python",
   "nbconvert_exporter": "python",
   "pygments_lexer": "ipython3",
   "version": "3.9.20"
  },
  "orig_nbformat": 4
 },
 "nbformat": 4,
 "nbformat_minor": 2
}
