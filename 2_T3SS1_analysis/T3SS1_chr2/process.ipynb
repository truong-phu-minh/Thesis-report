{
 "cells": [
  {
   "cell_type": "code",
   "execution_count": 2,
   "metadata": {},
   "outputs": [],
   "source": [
    "import os \n",
    "import pandas as pd\n",
    "import subprocess\n",
    "from Bio import SeqIO"
   ]
  },
  {
   "cell_type": "markdown",
   "metadata": {},
   "source": [
    "### Extract coordinate of start and end regions of T3SS1 on chromosome 1 from 128 strains"
   ]
  },
  {
   "cell_type": "code",
   "execution_count": 14,
   "metadata": {},
   "outputs": [],
   "source": [
    "chr2 = [file.split(\".fasta.tabular\")[0] for file in os.listdir(\"./NCBI BLAST_vpa0450-vpa0451\")]\n",
    "chr2 = sorted(set(chr2))\n",
    "coordinate = {}\n",
    "strain_name = {}\n",
    "for region in chr2:\n",
    "    df = pd.read_csv(f\"./NCBI BLAST_vpa0450-vpa0451/{region}.fasta.tabular\", delimiter = \"\\t\", header = None)\n",
    "    df.columns = [\"qaccver\",\"saccver\",\"pident\",\"alignment length\",\"mismatch number\",\"gapopen\",\"qstart\",\"qend\",\"sstart\",\"send\",\"evalue\",\"alignment score\", \"bit score\"]\n",
    "    best_row = df.loc[df[\"bit score\"].idxmax()]\n",
    "    if best_row[\"sstart\"] < best_row[\"send\"]:\n",
    "        coordinate[best_row[\"qaccver\"]] = [best_row[\"qstart\"], best_row[\"qend\"]]\n",
    "    else:\n",
    "        coordinate[best_row[\"qaccver\"]] = [best_row[\"qend\"], best_row[\"qstart\"]]\n",
    "    strain_name[region] = max(df[\"qaccver\"])"
   ]
  },
  {
   "cell_type": "code",
   "execution_count": null,
   "metadata": {},
   "outputs": [],
   "source": [
    "coordinate"
   ]
  },
  {
   "cell_type": "markdown",
   "metadata": {},
   "source": [
    "### Create bed file"
   ]
  },
  {
   "cell_type": "code",
   "execution_count": 7,
   "metadata": {},
   "outputs": [],
   "source": [
    "bed_file = 'regions.bed'\n",
    "strain_names_in_bed = set()\n",
    "\n",
    "with open(bed_file, 'r') as infile:\n",
    "    for line in infile:\n",
    "        strain_name = line.strip().split()[0]  # The first column is the strain name\n",
    "        strain_names_in_bed.add(strain_name)\n",
    "\n",
    "# Save the strain names to a file for later use\n",
    "with open('strain_names_in_bed.txt', 'w') as outfile:\n",
    "    for strain in strain_names_in_bed:\n",
    "        outfile.write(strain + \"\\n\")\n"
   ]
  },
  {
   "cell_type": "code",
   "execution_count": 8,
   "metadata": {},
   "outputs": [
    {
     "name": "stdout",
     "output_type": "stream",
     "text": [
      "Filtered FASTA file saved as filtered_128_strains.fasta\n"
     ]
    }
   ],
   "source": [
    "with open('strain_names_in_bed.txt', 'r') as infile:\n",
    "    valid_strains = set(line.strip() for line in infile)\n",
    "\n",
    "# Filter sequences in the 128_strains.fasta file\n",
    "fasta_file = '128_strains.fasta'\n",
    "output_file = 'filtered_128_strains.fasta'\n",
    "\n",
    "with open(fasta_file, 'r') as infile, open(output_file, 'w') as outfile:\n",
    "    write_sequence = False\n",
    "    for line in infile:\n",
    "        if line.startswith(\">\"):  # Header line\n",
    "            strain_name = line.strip().split()[0][1:]  # Remove '>' and get strain name\n",
    "            write_sequence = strain_name in valid_strains  # Check if strain name is valid\n",
    "        if write_sequence:  # Only write sequence if the strain name matches\n",
    "            outfile.write(line)\n",
    "\n",
    "print(f\"Filtered FASTA file saved as {output_file}\")"
   ]
  },
  {
   "cell_type": "markdown",
   "metadata": {},
   "source": [
    "### Find strain that has reversed T3SS1 regions, and store in reversed_strain"
   ]
  },
  {
   "cell_type": "code",
   "execution_count": 20,
   "metadata": {},
   "outputs": [],
   "source": [
    "reverse_strain = {}\n",
    "with open('regions.bed', 'w') as bedfile:\n",
    "    for strain, coords in coordinate.items():\n",
    "        start, end = coords\n",
    "        if start > end:\n",
    "            bedfile.write(f\"{strain}\\t{end}\\t{start}\\n\")\n",
    "            reverse_strain[strain] = [start, end]\n",
    "        if start < end:\n",
    "            bedfile.write(f\"{strain}\\t{start}\\t{end}\\n\")"
   ]
  },
  {
   "cell_type": "markdown",
   "metadata": {},
   "source": [
    "### Reverse T6SS2 with reversed strain"
   ]
  },
  {
   "cell_type": "code",
   "execution_count": 10,
   "metadata": {},
   "outputs": [],
   "source": [
    "!bedtools getfasta -fi filtered_128_strains.fasta -fo output_directory/strain_name.fasta -bed regions.bed"
   ]
  },
  {
   "cell_type": "code",
   "execution_count": 21,
   "metadata": {},
   "outputs": [],
   "source": [
    "input_fasta = \"./output_directory/strain_name.fasta\"\n",
    "output_fasta = \"./output_directory/T3SS1_chr2_normalized.fasta\"\n",
    "with open(input_fasta, \"r\") as infile, open(output_fasta, \"w\") as outfile:\n",
    "    for record in SeqIO.parse(infile, \"fasta\"):\n",
    "        strain = record.id \n",
    "        if strain.split(\":\")[0] in reverse_strain:\n",
    "            start, end = reverse_strain[strain.split(\":\")[0]]\n",
    "            record.seq = record.seq.reverse_complement()\n",
    "        SeqIO.write(record, outfile, \"fasta\")"
   ]
  },
  {
   "cell_type": "markdown",
   "metadata": {},
   "source": [
    "### Renaming from plasmid name to strain name in the iqtree file "
   ]
  },
  {
   "cell_type": "code",
   "execution_count": 26,
   "metadata": {},
   "outputs": [],
   "source": [
    "newer = {}\n",
    "for strain, plasmid in strain_name.items():\n",
    "    strain = strain.split(\"_ahpnd\")[0]\n",
    "    newer[strain] = plasmid\n",
    "new = {}\n",
    "for strain, plasmid in newer.items():\n",
    "    strain = strain.split(\"_clinical\")[0]\n",
    "    new[strain] = plasmid"
   ]
  },
  {
   "cell_type": "code",
   "execution_count": 27,
   "metadata": {},
   "outputs": [
    {
     "name": "stdout",
     "output_type": "stream",
     "text": [
      "{'CP045795.1': '10329', 'CP097356.1': '16-VB00198', 'CP033142.1': '160807', 'CP062154.1': '17-VB00214', 'CP046412.1': '19-021-D1', 'CP062151.1': '19-VB00998', 'CP065370.1': '20-082A3', 'CP083362.1': '20-082E4', 'CP046827.1': '2010V-1106', 'CP020035.1': '20130629002S01', 'CP046809.1': '2013V-1146', 'CP046788.1': '2013V-1174', 'CP046784.1': '2013V-1181', 'CP046781.1': '2013V-1244', 'CP034286.1': '20140624012-1', 'CP034290.1': '20140722001-1', 'CP047991.1': '20140723005', 'CP034295.1': '20140829008-1', 'CP046780.1': '2014V-1066', 'CP046777.1': '2014V-1125', 'CP047996.1': '20150710009', 'CP034306.1': '20151116002-3', 'CP046753.1': '2015AW-0174', 'CP034299.1': '20160303005-1', 'CP128371.1': '23EBVib0155', 'CP074416.1': '64', 'CP176358.1': 'AG1', 'CP046762.1': 'AM46865', 'CP192148.1': 'ANHC.C2L', 'CP014047.2': 'ATCC17802', 'CP003973.1': 'BB220P', 'CP099940.1': 'BM17A_1', 'CP129925.1': 'BM17A_2', 'CP129933.1': 'BM18B', 'CP099938.1': 'BM19BA_1', 'CP129939.1': 'BM21A_2', 'CP099942.1': 'BM23A_1', 'CP129931.1': 'BM24A', 'CP099929.1': 'BM24B', 'CP099922.1': 'BM25', 'CP099935.1': 'BM26A_1', 'CP141291.1': 'BM26A_2', 'cluster_002_consensus': 'BT85-28', 'CP063526.1': 'BTXS2', 'CP006007.1': 'CDC_K4557', 'CP010884.1': 'CHN25', 'CP034566.1': 'D3112', 'CP066247.1': 'DHO76', 'CP064036.1': 'DLM1799', 'CP064034.1': 'DLM1805', 'CP187481.1': 'DX190406', 'CP187430.1': 'DX210401', 'CP187438.1': 'DX230702', 'CP149506.1': 'EB101', 'CP073069.1': 'FB-11', 'CP020428.2': 'FDAARGOS_191', 'CP026042.1': 'FDAARGOS_51', 'CP044070.1': 'FDAARGOS_662', 'CP044063.1': 'FDAARGOS_667', 'CP006005.1': 'FDA_R31', 'CP009848.1': 'FORC_004', 'CP009766.1': 'FORC_006', 'CP009983.1': 'FORC_008', 'CP011407.1': 'FORC_014', 'CP013827.1': 'FORC_018', 'CP013249.1': 'FORC_022', 'CP012951.1': 'FORC_023', 'CP125857.1': 'G855', 'CP097874.1': 'GL-601', 'CP176647.1': 'GTVSS-031', 'CP176658.1': 'GTVSS-032', 'CP047986.1': 'HZ-52', 'CP130652.1': 'HZ', 'CP129937.1': 'I13A', 'CP141288.1': 'I14B', 'CP130857.1': 'I24A', 'CP099920.1': 'Isc14B', 'CP099947.1': 'Isc24A', 'CP176032.1': 'L2171', 'CP176036.1': 'L2181', 'CP119302.1': 'LC', 'CP085858.1': 'LH214', 'CP068623.1': 'LH24', 'CP068628.1': 'LH80', 'CP040099.1': 'LVP1', 'CP040102.1': 'LVP2', 'CP040104.1': 'LVP66', 'CP133892.1': 'M0904', 'CP023247.2': 'MAVP-26', 'CP011885.1': 'MAVP-Q1', 'CP022472.1': 'MAVP-Q2', 'CP022553.2': 'MAVP-R', 'CP043422.1': 'MVP1', 'CP128804.1': 'NJIFDCVp52', 'CP150865.1': 'NJIFDCVp7', 'CP114187.1': 'PH1273', 'CP114184.2': 'PH1339', 'CP028343.1': 'R13', 'CP028142.1': 'R14', 'BA000032.2': 'RIMD_2210633', 'CP102433.1': 'RMDVP1', 'CP131930.1': 'RP0132', 'CP160383.1': 'ST110-8', 'CP155083.1': 'TBV028', 'CP068648.1': 'TJ-187', 'CP068630.1': 'TJ-20', 'CP060087.1': 'TJA114', 'CP133901.1': 'TW01', 'CP007005.1': 'UCM-V493', 'CP068639.1': 'VP120', 'CP068642.1': 'VP157', 'CP127847.1': 'VP16', 'CP117038.1': 'VP220218', 'CP158306.1': 'VP93', 'CP041201.1': 'Vb0624', 'CP080479.1': 'Vp2015094', 'CP136904.1': 'X1', 'CP064042.1': 'XMO116', 'CP099954.1': 'lsc4A', 'CP099923.1': 'lsc7', 'CP150858.1': 'vp-201806', 'CP150863.1': 'vp-201911', 'CP152364.1': 'vp-HL-201910', 'CP114195.1': 'vp-HL-202005', 'CP150903.1': 'vp-HL-202006', 'CP150910.1': 'vp-HL-202008', 'CP150948.1': 'vp-HL-202012', 'CP151156.1': 'vp-pir-201806'}\n"
     ]
    }
   ],
   "source": [
    "plasmid_to_strain = {v: k for k, v in new.items()}\n",
    "print(plasmid_to_strain)"
   ]
  },
  {
   "cell_type": "code",
   "execution_count": 28,
   "metadata": {},
   "outputs": [
    {
     "data": {
      "text/plain": [
       "{'CP045795.1': '10329',\n",
       " 'CP097356.1': '16-VB00198',\n",
       " 'CP033142.1': '160807',\n",
       " 'CP062154.1': '17-VB00214',\n",
       " 'CP046412.1': '19-021-D1',\n",
       " 'CP062151.1': '19-VB00998',\n",
       " 'CP065370.1': '20-082A3',\n",
       " 'CP083362.1': '20-082E4',\n",
       " 'CP046827.1': '2010V-1106',\n",
       " 'CP020035.1': '20130629002S01',\n",
       " 'CP046809.1': '2013V-1146',\n",
       " 'CP046788.1': '2013V-1174',\n",
       " 'CP046784.1': '2013V-1181',\n",
       " 'CP046781.1': '2013V-1244',\n",
       " 'CP034286.1': '20140624012-1',\n",
       " 'CP034290.1': '20140722001-1',\n",
       " 'CP047991.1': '20140723005',\n",
       " 'CP034295.1': '20140829008-1',\n",
       " 'CP046780.1': '2014V-1066',\n",
       " 'CP046777.1': '2014V-1125',\n",
       " 'CP047996.1': '20150710009',\n",
       " 'CP034306.1': '20151116002-3',\n",
       " 'CP046753.1': '2015AW-0174',\n",
       " 'CP034299.1': '20160303005-1',\n",
       " 'CP128371.1': '23EBVib0155',\n",
       " 'CP074416.1': '64',\n",
       " 'CP176358.1': 'AG1',\n",
       " 'CP046762.1': 'AM46865',\n",
       " 'CP192148.1': 'ANHC.C2L',\n",
       " 'CP014047.2': 'ATCC17802',\n",
       " 'CP003973.1': 'BB220P',\n",
       " 'CP099940.1': 'BM17A_1',\n",
       " 'CP129925.1': 'BM17A_2',\n",
       " 'CP129933.1': 'BM18B',\n",
       " 'CP099938.1': 'BM19BA_1',\n",
       " 'CP129939.1': 'BM21A_2',\n",
       " 'CP099942.1': 'BM23A_1',\n",
       " 'CP129931.1': 'BM24A',\n",
       " 'CP099929.1': 'BM24B',\n",
       " 'CP099922.1': 'BM25',\n",
       " 'CP099935.1': 'BM26A_1',\n",
       " 'CP141291.1': 'BM26A_2',\n",
       " 'cluster_002_consensus': 'BT85-28',\n",
       " 'CP063526.1': 'BTXS2',\n",
       " 'CP006007.1': 'CDC_K4557',\n",
       " 'CP010884.1': 'CHN25',\n",
       " 'CP034566.1': 'D3112',\n",
       " 'CP066247.1': 'DHO76',\n",
       " 'CP064036.1': 'DLM1799',\n",
       " 'CP064034.1': 'DLM1805',\n",
       " 'CP187481.1': 'DX190406',\n",
       " 'CP187430.1': 'DX210401',\n",
       " 'CP187438.1': 'DX230702',\n",
       " 'CP149506.1': 'EB101',\n",
       " 'CP073069.1': 'FB-11',\n",
       " 'CP020428.2': 'FDAARGOS_191',\n",
       " 'CP026042.1': 'FDAARGOS_51',\n",
       " 'CP044070.1': 'FDAARGOS_662',\n",
       " 'CP044063.1': 'FDAARGOS_667',\n",
       " 'CP006005.1': 'FDA_R31',\n",
       " 'CP009848.1': 'FORC_004',\n",
       " 'CP009766.1': 'FORC_006',\n",
       " 'CP009983.1': 'FORC_008',\n",
       " 'CP011407.1': 'FORC_014',\n",
       " 'CP013827.1': 'FORC_018',\n",
       " 'CP013249.1': 'FORC_022',\n",
       " 'CP012951.1': 'FORC_023',\n",
       " 'CP125857.1': 'G855',\n",
       " 'CP097874.1': 'GL-601',\n",
       " 'CP176647.1': 'GTVSS-031',\n",
       " 'CP176658.1': 'GTVSS-032',\n",
       " 'CP047986.1': 'HZ-52',\n",
       " 'CP130652.1': 'HZ',\n",
       " 'CP129937.1': 'I13A',\n",
       " 'CP141288.1': 'I14B',\n",
       " 'CP130857.1': 'I24A',\n",
       " 'CP099920.1': 'Isc14B',\n",
       " 'CP099947.1': 'Isc24A',\n",
       " 'CP176032.1': 'L2171',\n",
       " 'CP176036.1': 'L2181',\n",
       " 'CP119302.1': 'LC',\n",
       " 'CP085858.1': 'LH214',\n",
       " 'CP068623.1': 'LH24',\n",
       " 'CP068628.1': 'LH80',\n",
       " 'CP040099.1': 'LVP1',\n",
       " 'CP040102.1': 'LVP2',\n",
       " 'CP040104.1': 'LVP66',\n",
       " 'CP133892.1': 'M0904',\n",
       " 'CP023247.2': 'MAVP-26',\n",
       " 'CP011885.1': 'MAVP-Q1',\n",
       " 'CP022472.1': 'MAVP-Q2',\n",
       " 'CP022553.2': 'MAVP-R',\n",
       " 'CP043422.1': 'MVP1',\n",
       " 'CP128804.1': 'NJIFDCVp52',\n",
       " 'CP150865.1': 'NJIFDCVp7',\n",
       " 'CP114187.1': 'PH1273',\n",
       " 'CP114184.2': 'PH1339',\n",
       " 'CP028343.1': 'R13',\n",
       " 'CP028142.1': 'R14',\n",
       " 'BA000032.2': 'RIMD_2210633',\n",
       " 'CP102433.1': 'RMDVP1',\n",
       " 'CP131930.1': 'RP0132',\n",
       " 'CP160383.1': 'ST110-8',\n",
       " 'CP155083.1': 'TBV028',\n",
       " 'CP068648.1': 'TJ-187',\n",
       " 'CP068630.1': 'TJ-20',\n",
       " 'CP060087.1': 'TJA114',\n",
       " 'CP133901.1': 'TW01',\n",
       " 'CP007005.1': 'UCM-V493',\n",
       " 'CP068639.1': 'VP120',\n",
       " 'CP068642.1': 'VP157',\n",
       " 'CP127847.1': 'VP16',\n",
       " 'CP117038.1': 'VP220218',\n",
       " 'CP158306.1': 'VP93',\n",
       " 'CP041201.1': 'Vb0624',\n",
       " 'CP080479.1': 'Vp2015094',\n",
       " 'CP136904.1': 'X1',\n",
       " 'CP064042.1': 'XMO116',\n",
       " 'CP099954.1': 'lsc4A',\n",
       " 'CP099923.1': 'lsc7',\n",
       " 'CP150858.1': 'vp-201806',\n",
       " 'CP150863.1': 'vp-201911',\n",
       " 'CP152364.1': 'vp-HL-201910',\n",
       " 'CP114195.1': 'vp-HL-202005',\n",
       " 'CP150903.1': 'vp-HL-202006',\n",
       " 'CP150910.1': 'vp-HL-202008',\n",
       " 'CP150948.1': 'vp-HL-202012',\n",
       " 'CP151156.1': 'vp-pir-201806'}"
      ]
     },
     "execution_count": 28,
     "metadata": {},
     "output_type": "execute_result"
    }
   ],
   "source": [
    "plasmid_to_strain"
   ]
  },
  {
   "cell_type": "code",
   "execution_count": 23,
   "metadata": {},
   "outputs": [
    {
     "data": {
      "text/plain": [
       "{'CP062154.1': [1501023, 1499040],\n",
       " 'CP062151.1': [1487933, 1485950],\n",
       " 'CP065370.1': [486830, 484847],\n",
       " 'CP046809.1': [1571593, 1569610],\n",
       " 'CP046784.1': [469941, 467958],\n",
       " 'CP047991.1': [1089063, 1087080],\n",
       " 'CP046777.1': [561915, 559932],\n",
       " 'CP034306.1': [363482, 361499],\n",
       " 'CP046753.1': [1756114, 1754131],\n",
       " 'CP034299.1': [181500, 179517],\n",
       " 'CP074416.1': [1469675, 1467692],\n",
       " 'CP176358.1': [504827, 502844],\n",
       " 'CP192148.1': [711779, 709796],\n",
       " 'CP014047.2': [1005979, 1003996],\n",
       " 'CP129925.1': [1311680, 1309698],\n",
       " 'CP129933.1': [1427708, 1425725],\n",
       " 'CP099942.1': [1570862, 1568880],\n",
       " 'CP129931.1': [1355586, 1353604],\n",
       " 'CP099922.1': [238402, 236420],\n",
       " 'cluster_002_consensus': [1534314, 1532331],\n",
       " 'CP010884.1': [1393624, 1391641],\n",
       " 'CP034566.1': [192345, 190362],\n",
       " 'CP066247.1': [379575, 378082],\n",
       " 'CP064034.1': [535208, 533225],\n",
       " 'CP073069.1': [618591, 616608],\n",
       " 'CP020428.2': [247333, 245350],\n",
       " 'CP026042.1': [1001641, 999658],\n",
       " 'CP044070.1': [963609, 961626],\n",
       " 'CP044063.1': [533308, 531325],\n",
       " 'CP006005.1': [1763181, 1761198],\n",
       " 'CP009766.1': [1299796, 1297813],\n",
       " 'CP011407.1': [1513734, 1511751],\n",
       " 'CP012951.1': [1319440, 1317457],\n",
       " 'CP125857.1': [1646350, 1644367],\n",
       " 'CP176647.1': [1342676, 1340693],\n",
       " 'CP047986.1': [114198, 112215],\n",
       " 'CP130652.1': [11794, 9811],\n",
       " 'CP129937.1': [1388772, 1386789],\n",
       " 'CP141288.1': [1366944, 1364962],\n",
       " 'CP130857.1': [1364905, 1362923],\n",
       " 'CP099920.1': [294470, 292488],\n",
       " 'CP176036.1': [1482399, 1480416],\n",
       " 'CP068623.1': [1089063, 1087080],\n",
       " 'CP068628.1': [563853, 561870],\n",
       " 'CP040102.1': [305002, 303019],\n",
       " 'CP040104.1': [1416452, 1414469],\n",
       " 'CP023247.2': [1186921, 1184938],\n",
       " 'CP011885.1': [1336115, 1334132],\n",
       " 'CP022472.1': [1336117, 1334134],\n",
       " 'CP022553.2': [1197042, 1195059],\n",
       " 'CP043422.1': [333883, 331900],\n",
       " 'CP128804.1': [1695617, 1693634],\n",
       " 'CP150865.1': [1451796, 1449813],\n",
       " 'CP114187.1': [1648640, 1646657],\n",
       " 'CP114184.2': [1614982, 1612999],\n",
       " 'CP028142.1': [735032, 733049],\n",
       " 'CP155083.1': [739615, 737632],\n",
       " 'CP068648.1': [1089063, 1087080],\n",
       " 'CP068630.1': [161747, 159764],\n",
       " 'CP007005.1': [1284706, 1282723],\n",
       " 'CP068639.1': [161747, 159764],\n",
       " 'CP068642.1': [1332148, 1330164],\n",
       " 'CP158306.1': [1390238, 1388255],\n",
       " 'CP150858.1': [649973, 647990],\n",
       " 'CP150863.1': [1112343, 1110360],\n",
       " 'CP152364.1': [1562462, 1560479],\n",
       " 'CP150903.1': [973314, 971331],\n",
       " 'CP150910.1': [1577399, 1575416],\n",
       " 'CP151156.1': [1477160, 1475177]}"
      ]
     },
     "execution_count": 23,
     "metadata": {},
     "output_type": "execute_result"
    }
   ],
   "source": [
    "reverse_strain"
   ]
  }
 ],
 "metadata": {
  "kernelspec": {
   "display_name": "Python 3",
   "language": "python",
   "name": "python3"
  },
  "language_info": {
   "codemirror_mode": {
    "name": "ipython",
    "version": 3
   },
   "file_extension": ".py",
   "mimetype": "text/x-python",
   "name": "python",
   "nbconvert_exporter": "python",
   "pygments_lexer": "ipython3",
   "version": "3.9.20"
  },
  "orig_nbformat": 4
 },
 "nbformat": 4,
 "nbformat_minor": 2
}
