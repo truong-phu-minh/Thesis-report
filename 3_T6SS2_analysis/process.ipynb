{
 "cells": [
  {
   "cell_type": "code",
   "execution_count": 3,
   "metadata": {},
   "outputs": [],
   "source": [
    "import os \n",
    "import pandas as pd\n",
    "import subprocess\n",
    "from Bio import SeqIO"
   ]
  },
  {
   "cell_type": "code",
   "execution_count": 4,
   "metadata": {},
   "outputs": [],
   "source": [
    "vpa1025 = [file.split(\".fasta.tabular\")[0] for file in os.listdir(\"./NCBI BLAST_vpa1025_300/\")]\n",
    "vpa1025 = sorted(set(vpa1025))\n",
    "start_list = {}\n",
    "strain_name = {}\n",
    "for start_coor in vpa1025:\n",
    "    df = pd.read_csv(f\"./NCBI BLAST_vpa1025_300/{start_coor}.fasta.tabular\", delimiter = \"\\t\", header = None)\n",
    "    df.columns = [\"qaccver\",\"saccver\",\"pident\",\"alignment length\",\"mismatch number\",\"gapopen\",\"qstart\",\"qend\",\"sstart\",\"send\",\"evalue\",\"alignment score\", \"bit score\"]\n",
    "    start_list[max(df[\"qaccver\"])] = max(df[\"qstart\"])\n",
    "    strain_name[start_coor] = max(df[\"qaccver\"])"
   ]
  },
  {
   "cell_type": "code",
   "execution_count": 12,
   "metadata": {},
   "outputs": [],
   "source": [
    "vpa1046 = [file.split(\".fasta.tabular\")[0] for file in os.listdir(\"./NCBI BLAST_300_vpa1046/\")]\n",
    "vpa1046 = sorted(set(vpa1025))\n",
    "end_list = {}\n",
    "for start_coor in vpa1025:\n",
    "    df = pd.read_csv(f\"./NCBI BLAST_300_vpa1046/{start_coor}.fasta.tabular\", delimiter = \"\\t\", header = None)\n",
    "    df.columns = [\"qaccver\",\"saccver\",\"pident\",\"alignment length\",\"mismatch number\",\"gapopen\",\"qstart\",\"qend\",\"sstart\",\"send\",\"evalue\",\"alignment score\", \"bit score\"]\n",
    "    end_list[max(df[\"qaccver\"])] = max(df[\"qend\"])"
   ]
  },
  {
   "cell_type": "code",
   "execution_count": 13,
   "metadata": {},
   "outputs": [],
   "source": [
    "coordinate = {}\n",
    "for strain in start_list:\n",
    "    if strain in end_list:\n",
    "        coordinate[strain] = [start_list[strain], end_list[strain]]"
   ]
  },
  {
   "cell_type": "code",
   "execution_count": null,
   "metadata": {},
   "outputs": [],
   "source": [
    "coordinate"
   ]
  },
  {
   "cell_type": "code",
   "execution_count": 14,
   "metadata": {},
   "outputs": [],
   "source": [
    "reverse_strain = {}\n",
    "with open('regions.bed', 'w') as bedfile:\n",
    "    for strain, coords in coordinate.items():\n",
    "        start, end = coords\n",
    "        if start > end:\n",
    "            bedfile.write(f\"{strain}\\t{end}\\t{start}\\n\")\n",
    "            reverse_strain[strain] = [start, end]\n",
    "        if start < end:\n",
    "            bedfile.write(f\"{strain}\\t{start}\\t{end}\\n\")"
   ]
  },
  {
   "cell_type": "code",
   "execution_count": 56,
   "metadata": {},
   "outputs": [],
   "source": [
    "bed_file = 'regions.bed'\n",
    "strain_names_in_bed = set()\n",
    "\n",
    "with open(bed_file, 'r') as infile:\n",
    "    for line in infile:\n",
    "        strain_name = line.strip().split()[0]  # The first column is the strain name\n",
    "        strain_names_in_bed.add(strain_name)\n",
    "\n",
    "# Save the strain names to a file for later use\n",
    "with open('strain_names_in_bed.txt', 'w') as outfile:\n",
    "    for strain in strain_names_in_bed:\n",
    "        outfile.write(strain + \"\\n\")\n"
   ]
  },
  {
   "cell_type": "code",
   "execution_count": 57,
   "metadata": {},
   "outputs": [
    {
     "name": "stdout",
     "output_type": "stream",
     "text": [
      "Filtered FASTA file saved as filtered_128_strains.fasta\n"
     ]
    }
   ],
   "source": [
    "with open('strain_names_in_bed.txt', 'r') as infile:\n",
    "    valid_strains = set(line.strip() for line in infile)\n",
    "\n",
    "# Filter sequences in the 128_strains.fasta file\n",
    "fasta_file = '128_strains.fasta'\n",
    "output_file = 'filtered_128_strains.fasta'\n",
    "\n",
    "with open(fasta_file, 'r') as infile, open(output_file, 'w') as outfile:\n",
    "    write_sequence = False\n",
    "    for line in infile:\n",
    "        if line.startswith(\">\"):  # Header line\n",
    "            strain_name = line.strip().split()[0][1:]  # Remove '>' and get strain name\n",
    "            write_sequence = strain_name in valid_strains  # Check if strain name is valid\n",
    "        if write_sequence:  # Only write sequence if the strain name matches\n",
    "            outfile.write(line)\n",
    "\n",
    "print(f\"Filtered FASTA file saved as {output_file}\")"
   ]
  },
  {
   "cell_type": "markdown",
   "metadata": {},
   "source": [
    "### Renaming from plasmid name to strain name in the iqtree file "
   ]
  },
  {
   "cell_type": "code",
   "execution_count": null,
   "metadata": {},
   "outputs": [],
   "source": [
    "newer = {}\n",
    "for strain, plasmid in strain_name.items():\n",
    "    strain = strain.split(\"_ahpnd\")[0]\n",
    "    newer[strain] = plasmid\n",
    "new = {}\n",
    "for strain, plasmid in newer.items():\n",
    "    strain = strain.split(\"_clinical\")[0]\n",
    "    new[strain] = plasmid"
   ]
  },
  {
   "cell_type": "code",
   "execution_count": 23,
   "metadata": {},
   "outputs": [
    {
     "name": "stdout",
     "output_type": "stream",
     "text": [
      "{'CP045795.1': '10329', 'CP097356.1': '16-VB00198', 'CP033142.1': '160807', 'CP062154.1': '17-VB00214', 'CP046412.1': '19-021-D1', 'CP062151.1': '19-VB00998', 'CP065370.1': '20-082A3', 'CP083362.1': '20-082E4', 'CP046827.1': '2010V-1106', 'CP020035.1': '20130629002S01', 'CP046809.1': '2013V-1146', 'CP046788.1': '2013V-1174', 'CP046784.1': '2013V-1181', 'CP046781.1': '2013V-1244', 'CP034286.1': '20140624012-1', 'CP034290.1': '20140722001-1', 'CP047991.1': '20140723005', 'CP034295.1': '20140829008-1', 'CP046780.1': '2014V-1066', 'CP046777.1': '2014V-1125', 'CP047996.1': '20150710009', 'CP034306.1': '20151116002-3', 'CP046753.1': '2015AW-0174', 'CP034299.1': '20160303005-1', 'CP128371.1': '23EBVib0155', 'CP074416.1': '64', 'CP176358.1': 'AG1', 'CP046762.1': 'AM46865', 'CP192148.1': 'ANHC.C2L', 'CP014047.2': 'ATCC17802', 'CP003973.1': 'BB220P', 'CP099940.1': 'BM17A_1', 'CP129925.1': 'BM17A_2', 'CP129933.1': 'BM18B', 'CP099938.1': 'BM19BA_1', 'CP129939.1': 'BM21A_2', 'CP099942.1': 'BM23A_1', 'CP129931.1': 'BM24A', 'CP099929.1': 'BM24B', 'CP099922.1': 'BM25', 'CP099935.1': 'BM26A_1', 'CP141291.1': 'BM26A_2', 'cluster_002_consensus': 'BT85-28', 'CP063526.1': 'BTXS2', 'CP006007.1': 'CDC_K4557', 'CP010884.1': 'CHN25', 'CP034566.1': 'D3112', 'CP066247.1': 'DHO76', 'CP064036.1': 'DLM1799', 'CP064034.1': 'DLM1805', 'CP187481.1': 'DX190406', 'CP187430.1': 'DX210401', 'CP187438.1': 'DX230702', 'CP149506.1': 'EB101', 'CP073069.1': 'FB-11', 'CP020428.2': 'FDAARGOS_191', 'CP026042.1': 'FDAARGOS_51', 'CP044070.1': 'FDAARGOS_662', 'CP044063.1': 'FDAARGOS_667', 'CP006005.1': 'FDA_R31', 'CP009848.1': 'FORC_004', 'CP009766.1': 'FORC_006', 'CP009983.1': 'FORC_008', 'CP011407.1': 'FORC_014', 'CP013827.1': 'FORC_018', 'CP013249.1': 'FORC_022', 'CP012951.1': 'FORC_023', 'CP125857.1': 'G855', 'CP097874.1': 'GL-601', 'CP176647.1': 'GTVSS-031', 'CP176658.1': 'GTVSS-032', 'CP047986.1': 'HZ-52', 'CP130652.1': 'HZ', 'CP129937.1': 'I13A', 'CP141288.1': 'I14B', 'CP130857.1': 'I24A', 'CP099920.1': 'Isc14B', 'CP099947.1': 'Isc24A', 'CP176032.1': 'L2171', 'CP176036.1': 'L2181', 'CP119302.1': 'LC', 'CP085858.1': 'LH214', 'CP068623.1': 'LH24', 'CP068628.1': 'LH80', 'CP040099.1': 'LVP1', 'CP040102.1': 'LVP2', 'CP040104.1': 'LVP66', 'CP133892.1': 'M0904', 'CP023247.2': 'MAVP-26', 'CP011885.1': 'MAVP-Q1', 'CP022472.1': 'MAVP-Q2', 'CP022553.2': 'MAVP-R', 'CP043422.1': 'MVP1', 'CP128804.1': 'NJIFDCVp52', 'CP150865.1': 'NJIFDCVp7', 'CP114187.1': 'PH1273', 'CP114184.2': 'PH1339', 'CP028343.1': 'R13', 'CP028142.1': 'R14', 'BA000032.2': 'RIMD_2210633', 'CP102433.1': 'RMDVP1', 'CP131930.1': 'RP0132', 'CP160383.1': 'ST110-8', 'CP155083.1': 'TBV028', 'CP068648.1': 'TJ-187', 'CP068630.1': 'TJ-20', 'CP060087.1': 'TJA114', 'CP133901.1': 'TW01', 'CP007005.1': 'UCM-V493', 'CP068639.1': 'VP120', 'CP068642.1': 'VP157', 'CP127847.1': 'VP16', 'CP117038.1': 'VP220218', 'CP158306.1': 'VP93', 'CP041201.1': 'Vb0624', 'CP080479.1': 'Vp2015094', 'CP136904.1': 'X1', 'CP064042.1': 'XMO116', 'CP099954.1': 'lsc4A', 'CP099923.1': 'lsc7', 'CP150858.1': 'vp-201806', 'CP150863.1': 'vp-201911', 'CP152364.1': 'vp-HL-201910', 'CP114195.1': 'vp-HL-202005', 'CP150903.1': 'vp-HL-202006', 'CP150910.1': 'vp-HL-202008', 'CP150948.1': 'vp-HL-202012', 'CP151156.1': 'vp-pir-201806'}\n"
     ]
    }
   ],
   "source": [
    "plasmid_to_strain = {v: k for k, v in new.items()}\n",
    "print(plasmid_to_strain)"
   ]
  },
  {
   "cell_type": "code",
   "execution_count": 26,
   "metadata": {},
   "outputs": [],
   "source": [
    "import re\n",
    "with open(\"./[PMinh]T6SS2_auto.nhx\", \"r\") as f:\n",
    "    tree_string = f.read()\n",
    "def replace_label(match):\n",
    "    label = match.group(0)\n",
    "    prefix = label.split(\"_\")[0]\n",
    "    return plasmid_to_strain.get(prefix, label)\n",
    "new_tree = re.sub(r'([A-Z]{2}\\d+\\.\\d+_\\d+-\\d+)', replace_label, tree_string)\n",
    "with open(\"./T6SS2_auto_hi.nhx\", \"w\") as f:\n",
    "    f.write(new_tree)"
   ]
  },
  {
   "cell_type": "markdown",
   "metadata": {},
   "source": [
    "### Itol annotation"
   ]
  },
  {
   "cell_type": "code",
   "execution_count": 7,
   "metadata": {},
   "outputs": [
    {
     "data": {
      "text/plain": [
       "['10329',\n",
       " '16-VB00198',\n",
       " '160807',\n",
       " '17-VB00214',\n",
       " '19-021-D1',\n",
       " '19-VB00998',\n",
       " '20-082A3',\n",
       " '20-082E4',\n",
       " '2010V-1106',\n",
       " '20130629002S01',\n",
       " '2013V-1146',\n",
       " '2013V-1174',\n",
       " '2013V-1181',\n",
       " '2013V-1244',\n",
       " '20140624012-1',\n",
       " '20140722001-1',\n",
       " '20140723005',\n",
       " '20140829008-1',\n",
       " '2014V-1066',\n",
       " '2014V-1125',\n",
       " '20150710009',\n",
       " '20151116002-3',\n",
       " '2015AW-0174',\n",
       " '20160303005-1',\n",
       " '23EBVib0155',\n",
       " '64',\n",
       " 'AG1',\n",
       " 'AM46865',\n",
       " 'ANHC.C2L',\n",
       " 'ATCC17802',\n",
       " 'BB220P',\n",
       " 'BM17A_1',\n",
       " 'BM17A_2',\n",
       " 'BM18B',\n",
       " 'BM19BA_1',\n",
       " 'BM21A_2',\n",
       " 'BM23A_1',\n",
       " 'BM24A',\n",
       " 'BM24B',\n",
       " 'BM25',\n",
       " 'BM26A_1',\n",
       " 'BM26A_2',\n",
       " 'BT85-28',\n",
       " 'BTXS2',\n",
       " 'CDC_K4557',\n",
       " 'CHN25',\n",
       " 'D3112',\n",
       " 'DHO76',\n",
       " 'DLM1799',\n",
       " 'DLM1805',\n",
       " 'DX190406',\n",
       " 'DX210401',\n",
       " 'DX230702',\n",
       " 'EB101',\n",
       " 'FB-11',\n",
       " 'FDAARGOS_191',\n",
       " 'FDAARGOS_51',\n",
       " 'FDAARGOS_662',\n",
       " 'FDAARGOS_667',\n",
       " 'FDA_R31',\n",
       " 'FORC_004',\n",
       " 'FORC_006',\n",
       " 'FORC_008',\n",
       " 'FORC_014',\n",
       " 'FORC_018',\n",
       " 'FORC_022',\n",
       " 'FORC_023',\n",
       " 'G855',\n",
       " 'GL-601',\n",
       " 'GTVSS-031',\n",
       " 'GTVSS-032',\n",
       " 'HZ-52',\n",
       " 'HZ',\n",
       " 'I13A',\n",
       " 'I14B',\n",
       " 'I24A',\n",
       " 'Isc14B',\n",
       " 'Isc24A',\n",
       " 'L2171',\n",
       " 'L2181',\n",
       " 'LC',\n",
       " 'LH214',\n",
       " 'LH24',\n",
       " 'LH80',\n",
       " 'LVP1',\n",
       " 'LVP2',\n",
       " 'LVP66',\n",
       " 'M0904',\n",
       " 'MAVP-26',\n",
       " 'MAVP-Q1',\n",
       " 'MAVP-Q2',\n",
       " 'MAVP-R',\n",
       " 'MVP1',\n",
       " 'NJIFDCVp52',\n",
       " 'NJIFDCVp7',\n",
       " 'PH1273',\n",
       " 'PH1339',\n",
       " 'R13',\n",
       " 'R14',\n",
       " 'RIMD_2210633',\n",
       " 'RMDVP1',\n",
       " 'RP0132',\n",
       " 'ST110-8',\n",
       " 'TBV028',\n",
       " 'TJ-187',\n",
       " 'TJ-20',\n",
       " 'TJA114',\n",
       " 'TW01',\n",
       " 'UCM-V493',\n",
       " 'VP120',\n",
       " 'VP157',\n",
       " 'VP16',\n",
       " 'VP220218',\n",
       " 'VP93',\n",
       " 'Vb0624',\n",
       " 'Vp2015094',\n",
       " 'X1',\n",
       " 'XMO116',\n",
       " 'lsc4A',\n",
       " 'lsc7',\n",
       " 'vp-201806',\n",
       " 'vp-201911',\n",
       " 'vp-HL-201910',\n",
       " 'vp-HL-202005',\n",
       " 'vp-HL-202006',\n",
       " 'vp-HL-202008',\n",
       " 'vp-HL-202012',\n",
       " 'vp-pir-201806']"
      ]
     },
     "execution_count": 7,
     "metadata": {},
     "output_type": "execute_result"
    }
   ],
   "source": [
    "# vpa1025 = [file.split(\"_ahpnd\")[0] for file in vpa1025]\n",
    "vpa1025 = [file.split(\"_clinical\")[0] for file in vpa1025]\n",
    "vpa1025"
   ]
  },
  {
   "cell_type": "code",
   "execution_count": 8,
   "metadata": {},
   "outputs": [],
   "source": [
    "df = pd.DataFrame(vpa1025)"
   ]
  },
  {
   "cell_type": "code",
   "execution_count": 12,
   "metadata": {},
   "outputs": [
    {
     "data": {
      "text/html": [
       "<div>\n",
       "<style scoped>\n",
       "    .dataframe tbody tr th:only-of-type {\n",
       "        vertical-align: middle;\n",
       "    }\n",
       "\n",
       "    .dataframe tbody tr th {\n",
       "        vertical-align: top;\n",
       "    }\n",
       "\n",
       "    .dataframe thead th {\n",
       "        text-align: right;\n",
       "    }\n",
       "</style>\n",
       "<table border=\"1\" class=\"dataframe\">\n",
       "  <thead>\n",
       "    <tr style=\"text-align: right;\">\n",
       "      <th></th>\n",
       "    </tr>\n",
       "    <tr>\n",
       "      <th>0</th>\n",
       "    </tr>\n",
       "  </thead>\n",
       "  <tbody>\n",
       "    <tr>\n",
       "      <th>10329</th>\n",
       "    </tr>\n",
       "    <tr>\n",
       "      <th>16-VB00198</th>\n",
       "    </tr>\n",
       "    <tr>\n",
       "      <th>160807</th>\n",
       "    </tr>\n",
       "    <tr>\n",
       "      <th>17-VB00214</th>\n",
       "    </tr>\n",
       "    <tr>\n",
       "      <th>19-021-D1</th>\n",
       "    </tr>\n",
       "    <tr>\n",
       "      <th>...</th>\n",
       "    </tr>\n",
       "    <tr>\n",
       "      <th>vp-HL-202005</th>\n",
       "    </tr>\n",
       "    <tr>\n",
       "      <th>vp-HL-202006</th>\n",
       "    </tr>\n",
       "    <tr>\n",
       "      <th>vp-HL-202008</th>\n",
       "    </tr>\n",
       "    <tr>\n",
       "      <th>vp-HL-202012</th>\n",
       "    </tr>\n",
       "    <tr>\n",
       "      <th>vp-pir-201806</th>\n",
       "    </tr>\n",
       "  </tbody>\n",
       "</table>\n",
       "<p>128 rows × 0 columns</p>\n",
       "</div>"
      ],
      "text/plain": [
       "Empty DataFrame\n",
       "Columns: []\n",
       "Index: [10329, 16-VB00198, 160807, 17-VB00214, 19-021-D1, 19-VB00998, 20-082A3, 20-082E4, 2010V-1106, 20130629002S01, 2013V-1146, 2013V-1174, 2013V-1181, 2013V-1244, 20140624012-1, 20140722001-1, 20140723005, 20140829008-1, 2014V-1066, 2014V-1125, 20150710009, 20151116002-3, 2015AW-0174, 20160303005-1, 23EBVib0155, 64, AG1, AM46865, ANHC.C2L, ATCC17802, BB220P, BM17A_1, BM17A_2, BM18B, BM19BA_1, BM21A_2, BM23A_1, BM24A, BM24B, BM25, BM26A_1, BM26A_2, BT85-28, BTXS2, CDC_K4557, CHN25, D3112, DHO76, DLM1799, DLM1805, DX190406, DX210401, DX230702, EB101, FB-11, FDAARGOS_191, FDAARGOS_51, FDAARGOS_662, FDAARGOS_667, FDA_R31, FORC_004, FORC_006, FORC_008, FORC_014, FORC_018, FORC_022, FORC_023, G855, GL-601, GTVSS-031, GTVSS-032, HZ-52, HZ, I13A, I14B, I24A, Isc14B, Isc24A, L2171, L2181, LC, LH214, LH24, LH80, LVP1, LVP2, LVP66, M0904, MAVP-26, MAVP-Q1, MAVP-Q2, MAVP-R, MVP1, NJIFDCVp52, NJIFDCVp7, PH1273, PH1339, R13, R14, RIMD_2210633, ...]\n",
       "\n",
       "[128 rows x 0 columns]"
      ]
     },
     "execution_count": 12,
     "metadata": {},
     "output_type": "execute_result"
    }
   ],
   "source": [
    "# df = df.set_index(0)\n",
    "df"
   ]
  },
  {
   "cell_type": "code",
   "execution_count": 73,
   "metadata": {},
   "outputs": [
    {
     "data": {
      "text/html": [
       "<div>\n",
       "<style scoped>\n",
       "    .dataframe tbody tr th:only-of-type {\n",
       "        vertical-align: middle;\n",
       "    }\n",
       "\n",
       "    .dataframe tbody tr th {\n",
       "        vertical-align: top;\n",
       "    }\n",
       "\n",
       "    .dataframe thead th {\n",
       "        text-align: right;\n",
       "    }\n",
       "</style>\n",
       "<table border=\"1\" class=\"dataframe\">\n",
       "  <thead>\n",
       "    <tr style=\"text-align: right;\">\n",
       "      <th></th>\n",
       "      <th>Strain type</th>\n",
       "      <th>year</th>\n",
       "    </tr>\n",
       "    <tr>\n",
       "      <th>Strain</th>\n",
       "      <th></th>\n",
       "      <th></th>\n",
       "    </tr>\n",
       "  </thead>\n",
       "  <tbody>\n",
       "    <tr>\n",
       "      <th>RIMD_2210633</th>\n",
       "      <td>Clinical</td>\n",
       "      <td>2004</td>\n",
       "    </tr>\n",
       "    <tr>\n",
       "      <th>BB220P</th>\n",
       "      <td>Environment</td>\n",
       "      <td>2012</td>\n",
       "    </tr>\n",
       "    <tr>\n",
       "      <th>FDA_R31</th>\n",
       "      <td>Environment</td>\n",
       "      <td>2013</td>\n",
       "    </tr>\n",
       "    <tr>\n",
       "      <th>CDC_K4557</th>\n",
       "      <td>Clinical</td>\n",
       "      <td>2013</td>\n",
       "    </tr>\n",
       "    <tr>\n",
       "      <th>UCM-V493</th>\n",
       "      <td>Environment</td>\n",
       "      <td>2014</td>\n",
       "    </tr>\n",
       "    <tr>\n",
       "      <th>...</th>\n",
       "      <td>...</td>\n",
       "      <td>...</td>\n",
       "    </tr>\n",
       "    <tr>\n",
       "      <th>DX210401</th>\n",
       "      <td>AHPND</td>\n",
       "      <td>2025</td>\n",
       "    </tr>\n",
       "    <tr>\n",
       "      <th>DX230702</th>\n",
       "      <td>AHPND</td>\n",
       "      <td>2025</td>\n",
       "    </tr>\n",
       "    <tr>\n",
       "      <th>DX190406</th>\n",
       "      <td>Environment</td>\n",
       "      <td>2025</td>\n",
       "    </tr>\n",
       "    <tr>\n",
       "      <th>ANHC.C2L</th>\n",
       "      <td>Environment</td>\n",
       "      <td>2025</td>\n",
       "    </tr>\n",
       "    <tr>\n",
       "      <th>BT85-28</th>\n",
       "      <td>Environment</td>\n",
       "      <td>2023</td>\n",
       "    </tr>\n",
       "  </tbody>\n",
       "</table>\n",
       "<p>128 rows × 2 columns</p>\n",
       "</div>"
      ],
      "text/plain": [
       "              Strain type  year\n",
       "Strain                         \n",
       "RIMD_2210633     Clinical  2004\n",
       "BB220P        Environment  2012\n",
       "FDA_R31       Environment  2013\n",
       "CDC_K4557        Clinical  2013\n",
       "UCM-V493      Environment  2014\n",
       "...                   ...   ...\n",
       "DX210401            AHPND  2025\n",
       "DX230702            AHPND  2025\n",
       "DX190406      Environment  2025\n",
       "ANHC.C2L      Environment  2025\n",
       "BT85-28       Environment  2023\n",
       "\n",
       "[128 rows x 2 columns]"
      ]
     },
     "execution_count": 73,
     "metadata": {},
     "output_type": "execute_result"
    }
   ],
   "source": [
    "meta = pd.read_csv(\"./metadata.csv\", index_col=\"Strain\")\n",
    "meta"
   ]
  },
  {
   "cell_type": "code",
   "execution_count": 56,
   "metadata": {},
   "outputs": [
    {
     "data": {
      "text/plain": [
       "True"
      ]
     },
     "execution_count": 56,
     "metadata": {},
     "output_type": "execute_result"
    }
   ],
   "source": [
    "\"BT85-28\" in meta.index"
   ]
  },
  {
   "cell_type": "code",
   "execution_count": 21,
   "metadata": {},
   "outputs": [
    {
     "data": {
      "text/html": [
       "<div>\n",
       "<style scoped>\n",
       "    .dataframe tbody tr th:only-of-type {\n",
       "        vertical-align: middle;\n",
       "    }\n",
       "\n",
       "    .dataframe tbody tr th {\n",
       "        vertical-align: top;\n",
       "    }\n",
       "\n",
       "    .dataframe thead th {\n",
       "        text-align: right;\n",
       "    }\n",
       "</style>\n",
       "<table border=\"1\" class=\"dataframe\">\n",
       "  <thead>\n",
       "    <tr style=\"text-align: right;\">\n",
       "      <th></th>\n",
       "      <th>Isolation date</th>\n",
       "      <th>Strain type</th>\n",
       "      <th>year</th>\n",
       "    </tr>\n",
       "    <tr>\n",
       "      <th>Strain</th>\n",
       "      <th></th>\n",
       "      <th></th>\n",
       "      <th></th>\n",
       "    </tr>\n",
       "  </thead>\n",
       "  <tbody>\n",
       "    <tr>\n",
       "      <th>RIMD 2210633</th>\n",
       "      <td>May-2004</td>\n",
       "      <td>Clinical</td>\n",
       "      <td>2004</td>\n",
       "    </tr>\n",
       "    <tr>\n",
       "      <th>BB220P</th>\n",
       "      <td>December-2012</td>\n",
       "      <td>Environment</td>\n",
       "      <td>2012</td>\n",
       "    </tr>\n",
       "    <tr>\n",
       "      <th>FDA_R31</th>\n",
       "      <td>July-2013</td>\n",
       "      <td>Environment</td>\n",
       "      <td>2013</td>\n",
       "    </tr>\n",
       "    <tr>\n",
       "      <th>CDC_K4557</th>\n",
       "      <td>July-2013</td>\n",
       "      <td>Clinical</td>\n",
       "      <td>2013</td>\n",
       "    </tr>\n",
       "    <tr>\n",
       "      <th>UCM-V493</th>\n",
       "      <td>February-2014</td>\n",
       "      <td>Environment</td>\n",
       "      <td>2014</td>\n",
       "    </tr>\n",
       "    <tr>\n",
       "      <th>...</th>\n",
       "      <td>...</td>\n",
       "      <td>...</td>\n",
       "      <td>...</td>\n",
       "    </tr>\n",
       "    <tr>\n",
       "      <th>AG1</th>\n",
       "      <td>March-2025</td>\n",
       "      <td>Environment</td>\n",
       "      <td>2025</td>\n",
       "    </tr>\n",
       "    <tr>\n",
       "      <th>DX210401</th>\n",
       "      <td>May-2025</td>\n",
       "      <td>AHPND</td>\n",
       "      <td>2025</td>\n",
       "    </tr>\n",
       "    <tr>\n",
       "      <th>DX230702</th>\n",
       "      <td>May-2025</td>\n",
       "      <td>AHPND</td>\n",
       "      <td>2025</td>\n",
       "    </tr>\n",
       "    <tr>\n",
       "      <th>DX190406</th>\n",
       "      <td>May-2025</td>\n",
       "      <td>Environment</td>\n",
       "      <td>2025</td>\n",
       "    </tr>\n",
       "    <tr>\n",
       "      <th>ANHC.C2L</th>\n",
       "      <td>May-2025</td>\n",
       "      <td>Environment</td>\n",
       "      <td>2025</td>\n",
       "    </tr>\n",
       "  </tbody>\n",
       "</table>\n",
       "<p>127 rows × 3 columns</p>\n",
       "</div>"
      ],
      "text/plain": [
       "             Isolation date  Strain type  year\n",
       "Strain                                        \n",
       "RIMD 2210633       May-2004     Clinical  2004\n",
       "BB220P        December-2012  Environment  2012\n",
       "FDA_R31           July-2013  Environment  2013\n",
       "CDC_K4557         July-2013     Clinical  2013\n",
       "UCM-V493      February-2014  Environment  2014\n",
       "...                     ...          ...   ...\n",
       "AG1              March-2025  Environment  2025\n",
       "DX210401           May-2025        AHPND  2025\n",
       "DX230702           May-2025        AHPND  2025\n",
       "DX190406           May-2025  Environment  2025\n",
       "ANHC.C2L           May-2025  Environment  2025\n",
       "\n",
       "[127 rows x 3 columns]"
      ]
     },
     "execution_count": 21,
     "metadata": {},
     "output_type": "execute_result"
    }
   ],
   "source": [
    "meta[\"year\"] = meta[\"Isolation date\"].str.split(\"-\").str[1]\n",
    "meta"
   ]
  },
  {
   "cell_type": "code",
   "execution_count": 52,
   "metadata": {},
   "outputs": [
    {
     "data": {
      "text/plain": [
       "False"
      ]
     },
     "execution_count": 52,
     "metadata": {},
     "output_type": "execute_result"
    }
   ],
   "source": [
    "\"BT85-28\" in meta.index"
   ]
  },
  {
   "cell_type": "code",
   "execution_count": 74,
   "metadata": {},
   "outputs": [
    {
     "data": {
      "text/plain": [
       "Strain\n",
       "RIMD_2210633       Clinical\n",
       "BB220P          Environment\n",
       "FDA_R31         Environment\n",
       "CDC_K4557          Clinical\n",
       "UCM-V493        Environment\n",
       "                   ...     \n",
       "DX210401              AHPND\n",
       "DX230702              AHPND\n",
       "DX190406        Environment\n",
       "ANHC.C2L        Environment\n",
       "BT85-28         Environment\n",
       "Name: Strain type, Length: 128, dtype: object"
      ]
     },
     "execution_count": 74,
     "metadata": {},
     "output_type": "execute_result"
    }
   ],
   "source": [
    "color_strip = meta[\"Strain type\"]\n",
    "color_strip"
   ]
  },
  {
   "cell_type": "code",
   "execution_count": 75,
   "metadata": {},
   "outputs": [],
   "source": [
    "color_strip.to_csv(\"color_strip_meta.csv\", sep=\",\")"
   ]
  },
  {
   "cell_type": "code",
   "execution_count": 76,
   "metadata": {},
   "outputs": [
    {
     "data": {
      "text/html": [
       "<div>\n",
       "<style scoped>\n",
       "    .dataframe tbody tr th:only-of-type {\n",
       "        vertical-align: middle;\n",
       "    }\n",
       "\n",
       "    .dataframe tbody tr th {\n",
       "        vertical-align: top;\n",
       "    }\n",
       "\n",
       "    .dataframe thead th {\n",
       "        text-align: right;\n",
       "    }\n",
       "</style>\n",
       "<table border=\"1\" class=\"dataframe\">\n",
       "  <thead>\n",
       "    <tr style=\"text-align: right;\">\n",
       "      <th></th>\n",
       "      <th>Strain type</th>\n",
       "    </tr>\n",
       "    <tr>\n",
       "      <th>Strain</th>\n",
       "      <th></th>\n",
       "    </tr>\n",
       "  </thead>\n",
       "  <tbody>\n",
       "    <tr>\n",
       "      <th>RIMD_2210633</th>\n",
       "      <td>Clinical</td>\n",
       "    </tr>\n",
       "    <tr>\n",
       "      <th>BB220P</th>\n",
       "      <td>Environment</td>\n",
       "    </tr>\n",
       "    <tr>\n",
       "      <th>FDA_R31</th>\n",
       "      <td>Environment</td>\n",
       "    </tr>\n",
       "    <tr>\n",
       "      <th>CDC_K4557</th>\n",
       "      <td>Clinical</td>\n",
       "    </tr>\n",
       "    <tr>\n",
       "      <th>UCM-V493</th>\n",
       "      <td>Environment</td>\n",
       "    </tr>\n",
       "    <tr>\n",
       "      <th>...</th>\n",
       "      <td>...</td>\n",
       "    </tr>\n",
       "    <tr>\n",
       "      <th>DX210401</th>\n",
       "      <td>AHPND</td>\n",
       "    </tr>\n",
       "    <tr>\n",
       "      <th>DX230702</th>\n",
       "      <td>AHPND</td>\n",
       "    </tr>\n",
       "    <tr>\n",
       "      <th>DX190406</th>\n",
       "      <td>Environment</td>\n",
       "    </tr>\n",
       "    <tr>\n",
       "      <th>ANHC.C2L</th>\n",
       "      <td>Environment</td>\n",
       "    </tr>\n",
       "    <tr>\n",
       "      <th>BT85-28</th>\n",
       "      <td>Environment</td>\n",
       "    </tr>\n",
       "  </tbody>\n",
       "</table>\n",
       "<p>128 rows × 1 columns</p>\n",
       "</div>"
      ],
      "text/plain": [
       "              Strain type\n",
       "Strain                   \n",
       "RIMD_2210633     Clinical\n",
       "BB220P        Environment\n",
       "FDA_R31       Environment\n",
       "CDC_K4557        Clinical\n",
       "UCM-V493      Environment\n",
       "...                   ...\n",
       "DX210401            AHPND\n",
       "DX230702            AHPND\n",
       "DX190406      Environment\n",
       "ANHC.C2L      Environment\n",
       "BT85-28       Environment\n",
       "\n",
       "[128 rows x 1 columns]"
      ]
     },
     "execution_count": 76,
     "metadata": {},
     "output_type": "execute_result"
    }
   ],
   "source": [
    "strain_type = pd.read_csv(\"./color_strip_meta.csv\", delimiter = \",\", index_col=\"Strain\")\n",
    "strain_type"
   ]
  },
  {
   "cell_type": "code",
   "execution_count": 77,
   "metadata": {},
   "outputs": [
    {
     "data": {
      "text/html": [
       "<div>\n",
       "<style scoped>\n",
       "    .dataframe tbody tr th:only-of-type {\n",
       "        vertical-align: middle;\n",
       "    }\n",
       "\n",
       "    .dataframe tbody tr th {\n",
       "        vertical-align: top;\n",
       "    }\n",
       "\n",
       "    .dataframe thead th {\n",
       "        text-align: right;\n",
       "    }\n",
       "</style>\n",
       "<table border=\"1\" class=\"dataframe\">\n",
       "  <thead>\n",
       "    <tr style=\"text-align: right;\">\n",
       "      <th></th>\n",
       "      <th>Strain type</th>\n",
       "      <th>Color</th>\n",
       "    </tr>\n",
       "    <tr>\n",
       "      <th>Strain</th>\n",
       "      <th></th>\n",
       "      <th></th>\n",
       "    </tr>\n",
       "  </thead>\n",
       "  <tbody>\n",
       "    <tr>\n",
       "      <th>RIMD_2210633</th>\n",
       "      <td>Clinical</td>\n",
       "      <td>#66c2a5</td>\n",
       "    </tr>\n",
       "    <tr>\n",
       "      <th>BB220P</th>\n",
       "      <td>Environment</td>\n",
       "      <td>#fc8d62</td>\n",
       "    </tr>\n",
       "    <tr>\n",
       "      <th>FDA_R31</th>\n",
       "      <td>Environment</td>\n",
       "      <td>#fc8d62</td>\n",
       "    </tr>\n",
       "    <tr>\n",
       "      <th>CDC_K4557</th>\n",
       "      <td>Clinical</td>\n",
       "      <td>#66c2a5</td>\n",
       "    </tr>\n",
       "    <tr>\n",
       "      <th>UCM-V493</th>\n",
       "      <td>Environment</td>\n",
       "      <td>#fc8d62</td>\n",
       "    </tr>\n",
       "    <tr>\n",
       "      <th>...</th>\n",
       "      <td>...</td>\n",
       "      <td>...</td>\n",
       "    </tr>\n",
       "    <tr>\n",
       "      <th>DX210401</th>\n",
       "      <td>AHPND</td>\n",
       "      <td>#8da0cb</td>\n",
       "    </tr>\n",
       "    <tr>\n",
       "      <th>DX230702</th>\n",
       "      <td>AHPND</td>\n",
       "      <td>#8da0cb</td>\n",
       "    </tr>\n",
       "    <tr>\n",
       "      <th>DX190406</th>\n",
       "      <td>Environment</td>\n",
       "      <td>#fc8d62</td>\n",
       "    </tr>\n",
       "    <tr>\n",
       "      <th>ANHC.C2L</th>\n",
       "      <td>Environment</td>\n",
       "      <td>#fc8d62</td>\n",
       "    </tr>\n",
       "    <tr>\n",
       "      <th>BT85-28</th>\n",
       "      <td>Environment</td>\n",
       "      <td>#fc8d62</td>\n",
       "    </tr>\n",
       "  </tbody>\n",
       "</table>\n",
       "<p>128 rows × 2 columns</p>\n",
       "</div>"
      ],
      "text/plain": [
       "              Strain type    Color\n",
       "Strain                            \n",
       "RIMD_2210633     Clinical  #66c2a5\n",
       "BB220P        Environment  #fc8d62\n",
       "FDA_R31       Environment  #fc8d62\n",
       "CDC_K4557        Clinical  #66c2a5\n",
       "UCM-V493      Environment  #fc8d62\n",
       "...                   ...      ...\n",
       "DX210401            AHPND  #8da0cb\n",
       "DX230702            AHPND  #8da0cb\n",
       "DX190406      Environment  #fc8d62\n",
       "ANHC.C2L      Environment  #fc8d62\n",
       "BT85-28       Environment  #fc8d62\n",
       "\n",
       "[128 rows x 2 columns]"
      ]
     },
     "execution_count": 77,
     "metadata": {},
     "output_type": "execute_result"
    }
   ],
   "source": [
    "color_map = {\n",
    "    \"Clinical\": \"#66c2a5\",\n",
    "    \"Environment\": \"#fc8d62\",\n",
    "    \"AHPND\": \"#8da0cb\"\n",
    "}\n",
    "\n",
    "# Tạo cột mới \"Color\" dựa trên cột \"Strain type\"\n",
    "strain_type[\"Color\"] = strain_type[\"Strain type\"].map(color_map)\n",
    "strain_type"
   ]
  },
  {
   "cell_type": "code",
   "execution_count": 61,
   "metadata": {},
   "outputs": [
    {
     "data": {
      "text/plain": [
       "True"
      ]
     },
     "execution_count": 61,
     "metadata": {},
     "output_type": "execute_result"
    }
   ],
   "source": [
    "\"BT85-28\" in strain_type.index"
   ]
  },
  {
   "cell_type": "code",
   "execution_count": 62,
   "metadata": {},
   "outputs": [],
   "source": [
    "del strain_type[\"Strain type\"]"
   ]
  },
  {
   "cell_type": "code",
   "execution_count": 82,
   "metadata": {},
   "outputs": [],
   "source": [
    "strain_type.to_csv(\"strain_type.csv\", sep=\",\")"
   ]
  },
  {
   "cell_type": "code",
   "execution_count": 65,
   "metadata": {},
   "outputs": [],
   "source": [
    "year = meta[\"year\"]"
   ]
  },
  {
   "cell_type": "code",
   "execution_count": 66,
   "metadata": {},
   "outputs": [],
   "source": [
    "year.to_csv(\"strain_year.csv\")"
   ]
  },
  {
   "cell_type": "code",
   "execution_count": 70,
   "metadata": {},
   "outputs": [
    {
     "data": {
      "text/html": [
       "<div>\n",
       "<style scoped>\n",
       "    .dataframe tbody tr th:only-of-type {\n",
       "        vertical-align: middle;\n",
       "    }\n",
       "\n",
       "    .dataframe tbody tr th {\n",
       "        vertical-align: top;\n",
       "    }\n",
       "\n",
       "    .dataframe thead th {\n",
       "        text-align: right;\n",
       "    }\n",
       "</style>\n",
       "<table border=\"1\" class=\"dataframe\">\n",
       "  <thead>\n",
       "    <tr style=\"text-align: right;\">\n",
       "      <th></th>\n",
       "      <th>year</th>\n",
       "    </tr>\n",
       "    <tr>\n",
       "      <th>Strain</th>\n",
       "      <th></th>\n",
       "    </tr>\n",
       "  </thead>\n",
       "  <tbody>\n",
       "    <tr>\n",
       "      <th>RIMD_2210633</th>\n",
       "      <td>2004</td>\n",
       "    </tr>\n",
       "    <tr>\n",
       "      <th>BB220P</th>\n",
       "      <td>2012</td>\n",
       "    </tr>\n",
       "    <tr>\n",
       "      <th>FDA_R31</th>\n",
       "      <td>2013</td>\n",
       "    </tr>\n",
       "    <tr>\n",
       "      <th>CDC_K4557</th>\n",
       "      <td>2013</td>\n",
       "    </tr>\n",
       "    <tr>\n",
       "      <th>UCM-V493</th>\n",
       "      <td>2014</td>\n",
       "    </tr>\n",
       "    <tr>\n",
       "      <th>...</th>\n",
       "      <td>...</td>\n",
       "    </tr>\n",
       "    <tr>\n",
       "      <th>DX210401</th>\n",
       "      <td>2025</td>\n",
       "    </tr>\n",
       "    <tr>\n",
       "      <th>DX230702</th>\n",
       "      <td>2025</td>\n",
       "    </tr>\n",
       "    <tr>\n",
       "      <th>DX190406</th>\n",
       "      <td>2025</td>\n",
       "    </tr>\n",
       "    <tr>\n",
       "      <th>ANHC.C2L</th>\n",
       "      <td>2025</td>\n",
       "    </tr>\n",
       "    <tr>\n",
       "      <th>BT85-28</th>\n",
       "      <td>2020</td>\n",
       "    </tr>\n",
       "  </tbody>\n",
       "</table>\n",
       "<p>128 rows × 1 columns</p>\n",
       "</div>"
      ],
      "text/plain": [
       "              year\n",
       "Strain            \n",
       "RIMD_2210633  2004\n",
       "BB220P        2012\n",
       "FDA_R31       2013\n",
       "CDC_K4557     2013\n",
       "UCM-V493      2014\n",
       "...            ...\n",
       "DX210401      2025\n",
       "DX230702      2025\n",
       "DX190406      2025\n",
       "ANHC.C2L      2025\n",
       "BT85-28       2020\n",
       "\n",
       "[128 rows x 1 columns]"
      ]
     },
     "execution_count": 70,
     "metadata": {},
     "output_type": "execute_result"
    }
   ],
   "source": [
    "year = pd.read_csv(\"./strain_year.csv\", index_col=\"Strain\")\n",
    "year"
   ]
  },
  {
   "cell_type": "markdown",
   "metadata": {},
   "source": [
    "### Reverse T6SS2 with reversed strain"
   ]
  },
  {
   "cell_type": "code",
   "execution_count": null,
   "metadata": {},
   "outputs": [],
   "source": [
    "!bedtools getfasta -fi filtered_128_strains.fasta -fo output_directory/strain_name.fasta -bed coordinate.bed"
   ]
  },
  {
   "cell_type": "code",
   "execution_count": 19,
   "metadata": {},
   "outputs": [],
   "source": [
    "input_fasta = \"./output_directory/strain_name.fasta\"\n",
    "output_fasta = \"./output_directory/strain_name_normalized_reverse_complement.fasta\"\n",
    "with open(input_fasta, \"r\") as infile, open(output_fasta, \"w\") as outfile:\n",
    "    for record in SeqIO.parse(infile, \"fasta\"):\n",
    "        strain = record.id \n",
    "        if strain.split(\":\")[0] in reverse_strain:\n",
    "            start, end = reverse_strain[strain.split(\":\")[0]]\n",
    "            record.seq = record.seq.reverse_complement()\n",
    "        SeqIO.write(record, outfile, \"fasta\")"
   ]
  },
  {
   "cell_type": "code",
   "execution_count": 17,
   "metadata": {},
   "outputs": [
    {
     "data": {
      "text/plain": [
       "{'CP097356.1': [1511229, 1484436],\n",
       " 'CP062154.1': [870039, 843247],\n",
       " 'CP062151.1': [870038, 843246],\n",
       " 'CP065370.1': [1650328, 1623541],\n",
       " 'CP046809.1': [949957, 923170],\n",
       " 'CP047991.1': [475323, 448536],\n",
       " 'CP046777.1': [1795278, 1768491],\n",
       " 'CP034306.1': [1500312, 1473526],\n",
       " 'CP046753.1': [1154887, 1128100],\n",
       " 'CP034299.1': [1359913, 1333126],\n",
       " 'CP128371.1': [1276776, 1249985],\n",
       " 'CP074416.1': [836920, 810133],\n",
       " 'CP176358.1': [1751489, 1724702],\n",
       " 'CP014047.2': [360548, 333761],\n",
       " 'CP099940.1': [627079, 600293],\n",
       " 'CP099929.1': [217422, 190637],\n",
       " 'CP099922.1': [1369976, 1343191],\n",
       " 'CP064036.1': [1166606, 1139819],\n",
       " 'CP064034.1': [1671413, 1644626],\n",
       " 'CP073069.1': [1762777, 1735989],\n",
       " 'CP020428.2': [1489646, 1462859],\n",
       " 'CP026042.1': [400408, 373621],\n",
       " 'CP044070.1': [362375, 335588],\n",
       " 'CP125857.1': [1018998, 992211],\n",
       " 'CP176647.1': [750372, 723585],\n",
       " 'CP047986.1': [1309747, 1281897],\n",
       " 'CP130652.1': [1254091, 1227304],\n",
       " 'CP099947.1': [867006, 840219],\n",
       " 'CP176036.1': [674067, 647280],\n",
       " 'CP068623.1': [475323, 448536],\n",
       " 'CP068628.1': [1792808, 1766021],\n",
       " 'CP040099.1': [383921, 357134],\n",
       " 'CP040102.1': [1472485, 1445698],\n",
       " 'CP040104.1': [807065, 780278],\n",
       " 'CP023247.2': [585690, 558903],\n",
       " 'CP043422.1': [1457271, 1430474],\n",
       " 'CP128804.1': [1092209, 1065422],\n",
       " 'CP114184.2': [829763, 801913],\n",
       " 'CP028142.1': [79637, 52850],\n",
       " 'CP131930.1': [1094103, 1067316],\n",
       " 'CP155083.1': [1925974, 1899187],\n",
       " 'CP068648.1': [475323, 448536],\n",
       " 'CP068630.1': [1383030, 1356243],\n",
       " 'CP068639.1': [1381976, 1355189],\n",
       " 'CP041201.1': [780261, 753474],\n",
       " 'CP136904.1': [852405, 825618],\n",
       " 'CP064042.1': [988500, 961713],\n",
       " 'CP099954.1': [1732833, 1706047],\n",
       " 'CP099923.1': [1555944, 1529159],\n",
       " 'CP150858.1': [1786692, 1759905],\n",
       " 'CP152364.1': [893070, 866283],\n",
       " 'CP150903.1': [303922, 277135],\n",
       " 'CP150910.1': [908007, 881220],\n",
       " 'CP151156.1': [732343, 705556]}"
      ]
     },
     "execution_count": 17,
     "metadata": {},
     "output_type": "execute_result"
    }
   ],
   "source": [
    "reverse_strain"
   ]
  }
 ],
 "metadata": {
  "kernelspec": {
   "display_name": "Python 3",
   "language": "python",
   "name": "python3"
  },
  "language_info": {
   "codemirror_mode": {
    "name": "ipython",
    "version": 3
   },
   "file_extension": ".py",
   "mimetype": "text/x-python",
   "name": "python",
   "nbconvert_exporter": "python",
   "pygments_lexer": "ipython3",
   "version": "3.9.20"
  },
  "orig_nbformat": 4
 },
 "nbformat": 4,
 "nbformat_minor": 2
}
